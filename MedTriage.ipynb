{
  "nbformat": 4,
  "nbformat_minor": 0,
  "metadata": {
    "colab": {
      "provenance": [],
      "authorship_tag": "ABX9TyPTRKetQqghNLFyfktW0+c7",
      "include_colab_link": true
    },
    "kernelspec": {
      "name": "python3",
      "display_name": "Python 3"
    },
    "language_info": {
      "name": "python"
    }
  },
  "cells": [
    {
      "cell_type": "markdown",
      "metadata": {
        "id": "view-in-github",
        "colab_type": "text"
      },
      "source": [
        "<a href=\"https://colab.research.google.com/github/Maanisha27/MediTriage_/blob/main/MedTriage.ipynb\" target=\"_parent\"><img src=\"https://colab.research.google.com/assets/colab-badge.svg\" alt=\"Open In Colab\"/></a>"
      ]
    },
    {
      "cell_type": "markdown",
      "source": [
        "Triage-Program"
      ],
      "metadata": {
        "id": "x1Pgk6SCuC1O"
      }
    },
    {
      "cell_type": "code",
      "execution_count": null,
      "metadata": {
        "colab": {
          "base_uri": "https://localhost:8080/",
          "height": 1000
        },
        "id": "Mn9Fw27XLMK_",
        "outputId": "630a62fb-c823-4c4e-d0ee-a582748d9188"
      },
      "outputs": [
        {
          "metadata": {
            "tags": null
          },
          "name": "stderr",
          "output_type": "stream",
          "text": [
            "/tmp/ipython-input-1641396783.py:7: DeprecationWarning: 'pkgutil.find_loader' is deprecated and slated for removal in Python 3.14; use importlib.util.find_spec() instead\n",
            "  if not pkgutil.find_loader(r):\n"
          ]
        },
        {
          "metadata": {
            "tags": null
          },
          "name": "stdout",
          "output_type": "stream",
          "text": [
            "Installing required packages...\n"
          ]
        },
        {
          "data": {
            "text/html": [
              "<pre style=\"white-space:pre;overflow-x:auto;line-height:normal;font-family:Menlo,'DejaVu Sans Mono',consolas,'Courier New',monospace\"><span style=\"color: #008080; text-decoration-color: #008080\">╭───────────────────────────────────────────────────╮</span>\n",
              "<span style=\"color: #008080; text-decoration-color: #008080\">│ 🚑 </span><span style=\"color: #800000; text-decoration-color: #800000; font-weight: bold\">AI in Medical Emergency Decision Making — v2.0</span><span style=\"color: #008080; text-decoration-color: #008080\"> │</span>\n",
              "<span style=\"color: #008080; text-decoration-color: #008080\">╰───────────────────────────────────────────────────╯</span>\n",
              "</pre>\n"
            ],
            "text/plain": [
              "\u001b[36m╭───────────────────────────────────────────────────╮\u001b[0m\n",
              "\u001b[36m│\u001b[0m\u001b[36m \u001b[0m\u001b[36m🚑 \u001b[0m\u001b[1;31mAI in Medical Emergency Decision Making — v2.0\u001b[0m\u001b[36m \u001b[0m\u001b[36m│\u001b[0m\n",
              "\u001b[36m╰───────────────────────────────────────────────────╯\u001b[0m\n"
            ]
          },
          "metadata": {},
          "output_type": "display_data"
        },
        {
          "data": {
            "text/html": [
              "<pre style=\"white-space:pre;overflow-x:auto;line-height:normal;font-family:Menlo,'DejaVu Sans Mono',consolas,'Courier New',monospace\">Tip: Use option <span style=\"color: #008080; text-decoration-color: #008080; font-weight: bold\">1</span> to load demo data, then explore triage <span style=\"font-weight: bold\">(</span><span style=\"color: #008080; text-decoration-color: #008080; font-weight: bold\">3</span><span style=\"font-weight: bold\">)</span> and routing <span style=\"font-weight: bold\">(</span><span style=\"color: #008080; text-decoration-color: #008080; font-weight: bold\">5</span><span style=\"font-weight: bold\">)</span>.\n",
              "</pre>\n"
            ],
            "text/plain": [
              "Tip: Use option \u001b[1;36m1\u001b[0m to load demo data, then explore triage \u001b[1m(\u001b[0m\u001b[1;36m3\u001b[0m\u001b[1m)\u001b[0m and routing \u001b[1m(\u001b[0m\u001b[1;36m5\u001b[0m\u001b[1m)\u001b[0m.\n"
            ]
          },
          "metadata": {},
          "output_type": "display_data"
        },
        {
          "data": {
            "text/html": [
              "<pre style=\"white-space:pre;overflow-x:auto;line-height:normal;font-family:Menlo,'DejaVu Sans Mono',consolas,'Courier New',monospace\">\n",
              "<span style=\"font-weight: bold\">Menu:</span>\n",
              "</pre>\n"
            ],
            "text/plain": [
              "\n",
              "\u001b[1mMenu:\u001b[0m\n"
            ]
          },
          "metadata": {},
          "output_type": "display_data"
        },
        {
          "data": {
            "text/html": [
              "<pre style=\"white-space:pre;overflow-x:auto;line-height:normal;font-family:Menlo,'DejaVu Sans Mono',consolas,'Courier New',monospace\"><span style=\"color: #008080; text-decoration-color: #008080; font-weight: bold\">1</span>. Load <span style=\"color: #008080; text-decoration-color: #008080; font-weight: bold\">10</span> fixed sample patients <span style=\"font-weight: bold\">(</span>demo<span style=\"font-weight: bold\">)</span>\n",
              "</pre>\n"
            ],
            "text/plain": [
              "\u001b[1;36m1\u001b[0m. Load \u001b[1;36m10\u001b[0m fixed sample patients \u001b[1m(\u001b[0mdemo\u001b[1m)\u001b[0m\n"
            ]
          },
          "metadata": {},
          "output_type": "display_data"
        },
        {
          "data": {
            "text/html": [
              "<pre style=\"white-space:pre;overflow-x:auto;line-height:normal;font-family:Menlo,'DejaVu Sans Mono',consolas,'Courier New',monospace\"><span style=\"color: #008080; text-decoration-color: #008080; font-weight: bold\">2</span>. Add one patient manually\n",
              "</pre>\n"
            ],
            "text/plain": [
              "\u001b[1;36m2\u001b[0m. Add one patient manually\n"
            ]
          },
          "metadata": {},
          "output_type": "display_data"
        },
        {
          "data": {
            "text/html": [
              "<pre style=\"white-space:pre;overflow-x:auto;line-height:normal;font-family:Menlo,'DejaVu Sans Mono',consolas,'Courier New',monospace\"><span style=\"color: #008080; text-decoration-color: #008080; font-weight: bold\">3</span>. Run triage <span style=\"font-weight: bold\">(</span>choose algorithm <span style=\"color: #800080; text-decoration-color: #800080\">/</span> ensemble<span style=\"font-weight: bold\">)</span>\n",
              "</pre>\n"
            ],
            "text/plain": [
              "\u001b[1;36m3\u001b[0m. Run triage \u001b[1m(\u001b[0mchoose algorithm \u001b[35m/\u001b[0m ensemble\u001b[1m)\u001b[0m\n"
            ]
          },
          "metadata": {},
          "output_type": "display_data"
        },
        {
          "data": {
            "text/html": [
              "<pre style=\"white-space:pre;overflow-x:auto;line-height:normal;font-family:Menlo,'DejaVu Sans Mono',consolas,'Courier New',monospace\"><span style=\"color: #008080; text-decoration-color: #008080; font-weight: bold\">4</span>. Show triage report <span style=\"font-weight: bold\">(</span>console<span style=\"font-weight: bold\">)</span>\n",
              "</pre>\n"
            ],
            "text/plain": [
              "\u001b[1;36m4\u001b[0m. Show triage report \u001b[1m(\u001b[0mconsole\u001b[1m)\u001b[0m\n"
            ]
          },
          "metadata": {},
          "output_type": "display_data"
        },
        {
          "data": {
            "text/html": [
              "<pre style=\"white-space:pre;overflow-x:auto;line-height:normal;font-family:Menlo,'DejaVu Sans Mono',consolas,'Courier New',monospace\"><span style=\"color: #008080; text-decoration-color: #008080; font-weight: bold\">5</span>. Route a patient to specialists <span style=\"font-weight: bold\">(</span>WASPAS + adaptive GNN + Similarity fusion<span style=\"font-weight: bold\">)</span>\n",
              "</pre>\n"
            ],
            "text/plain": [
              "\u001b[1;36m5\u001b[0m. Route a patient to specialists \u001b[1m(\u001b[0mWASPAS + adaptive GNN + Similarity fusion\u001b[1m)\u001b[0m\n"
            ]
          },
          "metadata": {},
          "output_type": "display_data"
        },
        {
          "data": {
            "text/html": [
              "<pre style=\"white-space:pre;overflow-x:auto;line-height:normal;font-family:Menlo,'DejaVu Sans Mono',consolas,'Courier New',monospace\"><span style=\"color: #008080; text-decoration-color: #008080; font-weight: bold\">6</span>. Visualize dashboard <span style=\"font-weight: bold\">(</span>Plotly<span style=\"font-weight: bold\">)</span>\n",
              "</pre>\n"
            ],
            "text/plain": [
              "\u001b[1;36m6\u001b[0m. Visualize dashboard \u001b[1m(\u001b[0mPlotly\u001b[1m)\u001b[0m\n"
            ]
          },
          "metadata": {},
          "output_type": "display_data"
        },
        {
          "data": {
            "text/html": [
              "<pre style=\"white-space:pre;overflow-x:auto;line-height:normal;font-family:Menlo,'DejaVu Sans Mono',consolas,'Courier New',monospace\"><span style=\"color: #008080; text-decoration-color: #008080; font-weight: bold\">7</span>. Export CSV of triage patient list\n",
              "</pre>\n"
            ],
            "text/plain": [
              "\u001b[1;36m7\u001b[0m. Export CSV of triage patient list\n"
            ]
          },
          "metadata": {},
          "output_type": "display_data"
        },
        {
          "data": {
            "text/html": [
              "<pre style=\"white-space:pre;overflow-x:auto;line-height:normal;font-family:Menlo,'DejaVu Sans Mono',consolas,'Courier New',monospace\"><span style=\"color: #008080; text-decoration-color: #008080; font-weight: bold\">8</span>. Export event log <span style=\"font-weight: bold\">(</span>JSON<span style=\"font-weight: bold\">)</span>\n",
              "</pre>\n"
            ],
            "text/plain": [
              "\u001b[1;36m8\u001b[0m. Export event log \u001b[1m(\u001b[0mJSON\u001b[1m)\u001b[0m\n"
            ]
          },
          "metadata": {},
          "output_type": "display_data"
        },
        {
          "data": {
            "text/html": [
              "<pre style=\"white-space:pre;overflow-x:auto;line-height:normal;font-family:Menlo,'DejaVu Sans Mono',consolas,'Courier New',monospace\"><span style=\"color: #008080; text-decoration-color: #008080; font-weight: bold\">9</span>. Simulation mode <span style=\"font-weight: bold\">(</span>stress test<span style=\"font-weight: bold\">)</span>\n",
              "</pre>\n"
            ],
            "text/plain": [
              "\u001b[1;36m9\u001b[0m. Simulation mode \u001b[1m(\u001b[0mstress test\u001b[1m)\u001b[0m\n"
            ]
          },
          "metadata": {},
          "output_type": "display_data"
        },
        {
          "data": {
            "text/html": [
              "<pre style=\"white-space:pre;overflow-x:auto;line-height:normal;font-family:Menlo,'DejaVu Sans Mono',consolas,'Courier New',monospace\"><span style=\"color: #008080; text-decoration-color: #008080; font-weight: bold\">10</span>. Clear all patients\n",
              "</pre>\n"
            ],
            "text/plain": [
              "\u001b[1;36m10\u001b[0m. Clear all patients\n"
            ]
          },
          "metadata": {},
          "output_type": "display_data"
        },
        {
          "data": {
            "text/html": [
              "<pre style=\"white-space:pre;overflow-x:auto;line-height:normal;font-family:Menlo,'DejaVu Sans Mono',consolas,'Courier New',monospace\"><span style=\"color: #008080; text-decoration-color: #008080; font-weight: bold\">11</span>. Exit\n",
              "</pre>\n"
            ],
            "text/plain": [
              "\u001b[1;36m11\u001b[0m. Exit\n"
            ]
          },
          "metadata": {},
          "output_type": "display_data"
        },
        {
          "data": {
            "text/html": [
              "<pre style=\"white-space:pre;overflow-x:auto;line-height:normal;font-family:Menlo,'DejaVu Sans Mono',consolas,'Courier New',monospace\">Choose (1-11) <span style=\"color: #008080; text-decoration-color: #008080; font-weight: bold\">(1)</span>: </pre>\n"
            ],
            "text/plain": [
              "Choose (1-11) \u001b[1;36m(1)\u001b[0m: "
            ]
          },
          "metadata": {},
          "output_type": "display_data"
        },
        {
          "data": {
            "text/html": [
              "<pre style=\"white-space:pre;overflow-x:auto;line-height:normal;font-family:Menlo,'DejaVu Sans Mono',consolas,'Courier New',monospace\"><span style=\"color: #008000; text-decoration-color: #008000\">PCA-derived weights </span><span style=\"color: #008000; text-decoration-color: #008000; font-weight: bold\">(</span><span style=\"color: #008000; text-decoration-color: #008000\">S,U,R,W,A</span><span style=\"color: #008000; text-decoration-color: #008000; font-weight: bold\">)</span><span style=\"color: #008000; text-decoration-color: #008000\">:</span> <span style=\"font-weight: bold\">[</span><span style=\"color: #008080; text-decoration-color: #008080; font-weight: bold\">0.21</span>, <span style=\"color: #008080; text-decoration-color: #008080; font-weight: bold\">0.203</span>, <span style=\"color: #008080; text-decoration-color: #008080; font-weight: bold\">0.2</span>, <span style=\"color: #008080; text-decoration-color: #008080; font-weight: bold\">0.208</span>, <span style=\"color: #008080; text-decoration-color: #008080; font-weight: bold\">0.179</span><span style=\"font-weight: bold\">]</span>\n",
              "</pre>\n"
            ],
            "text/plain": [
              "\u001b[32mPCA-derived weights \u001b[0m\u001b[1;32m(\u001b[0m\u001b[32mS,U,R,W,A\u001b[0m\u001b[1;32m)\u001b[0m\u001b[32m:\u001b[0m \u001b[1m[\u001b[0m\u001b[1;36m0.21\u001b[0m, \u001b[1;36m0.203\u001b[0m, \u001b[1;36m0.2\u001b[0m, \u001b[1;36m0.208\u001b[0m, \u001b[1;36m0.179\u001b[0m\u001b[1m]\u001b[0m\n"
            ]
          },
          "metadata": {},
          "output_type": "display_data"
        },
        {
          "data": {
            "text/html": [
              "<pre style=\"white-space:pre;overflow-x:auto;line-height:normal;font-family:Menlo,'DejaVu Sans Mono',consolas,'Courier New',monospace\"><span style=\"color: #008000; text-decoration-color: #008000\">Triage complete: patients ranked by chosen algorithm/ensemble.</span>\n",
              "</pre>\n"
            ],
            "text/plain": [
              "\u001b[32mTriage complete: patients ranked by chosen algorithm/ensemble.\u001b[0m\n"
            ]
          },
          "metadata": {},
          "output_type": "display_data"
        },
        {
          "data": {
            "text/html": [
              "<pre style=\"white-space:pre;overflow-x:auto;line-height:normal;font-family:Menlo,'DejaVu Sans Mono',consolas,'Courier New',monospace\">\n",
              "<span style=\"color: #808000; text-decoration-color: #808000; font-weight: bold\">==== TRIAGE REPORT ====</span>\n",
              "</pre>\n"
            ],
            "text/plain": [
              "\n",
              "\u001b[1;33m==== TRIAGE REPORT ====\u001b[0m\n"
            ]
          },
          "metadata": {},
          "output_type": "display_data"
        },
        {
          "data": {
            "text/html": [
              "<pre style=\"white-space:pre;overflow-x:auto;line-height:normal;font-family:Menlo,'DejaVu Sans Mono',consolas,'Courier New',monospace\">┏━━━━━━┳━━━━━┳━━━━━━━━━━━━━━━━━━━━━━━━━━━━━┳━━━━━━━━━━┳━━━━━━━━━┳━━━━━━━━━━━━━━━━┳━━━━━━━━━━┳━━━━━━━━━━━━━━━━━━━━━┓\n",
              "┃<span style=\"color: #800080; text-decoration-color: #800080; font-weight: bold\">  id  </span>┃<span style=\"color: #800080; text-decoration-color: #800080; font-weight: bold\"> age </span>┃<span style=\"color: #800080; text-decoration-color: #800080; font-weight: bold\">       condition_desc        </span>┃<span style=\"color: #800080; text-decoration-color: #800080; font-weight: bold\"> severity </span>┃<span style=\"color: #800080; text-decoration-color: #800080; font-weight: bold\"> urgency </span>┃<span style=\"color: #800080; text-decoration-color: #800080; font-weight: bold\"> ensemble_score </span>┃<span style=\"color: #800080; text-decoration-color: #800080; font-weight: bold\"> priority </span>┃<span style=\"color: #800080; text-decoration-color: #800080; font-weight: bold\">     fuzzy_label     </span>┃\n",
              "┡━━━━━━╇━━━━━╇━━━━━━━━━━━━━━━━━━━━━━━━━━━━━╇━━━━━━━━━━╇━━━━━━━━━╇━━━━━━━━━━━━━━━━╇━━━━━━━━━━╇━━━━━━━━━━━━━━━━━━━━━┩\n",
              "│ P003 │ 72  │   Displaced Hip Fracture    │    85    │   90    │     1.000      │ Critical │ Emergency/Immediate │\n",
              "│ P010 │ 65  │    Chronic Heart Failure    │    85    │   80    │     0.964      │ Critical │ Emergency/Immediate │\n",
              "│ P002 │  8  │ Severe Asthma Exacerbation  │    80    │   85    │     0.870      │ Critical │ Emergency/Immediate │\n",
              "│ P005 │ 55  │    Acute Ischemic Stroke    │    90    │   95    │     0.848      │ Critical │ Emergency/Immediate │\n",
              "│ P001 │ 60  │ Acute Myocardial Infarction │    90    │   85    │     0.811      │ Critical │ Emergency/Immediate │\n",
              "│ P006 │ 60  │      Severe Pneumonia       │    85    │   80    │     0.768      │   High   │ Emergency/Immediate │\n",
              "│ P007 │ 35  │        Appendicitis         │    70    │   75    │     0.613      │   High   │ Emergency/Immediate │\n",
              "│ P008 │ 50  │        Fractured Arm        │    60    │   55    │     0.465      │  Medium  │       Urgent        │\n",
              "│ P009 │ 28  │       Migraine Attack       │    40    │   50    │     0.236      │   Low    │       Urgent        │\n",
              "│ P004 │ 25  │       Deep Laceration       │    30    │   25    │     0.000      │   Low    │       Routine       │\n",
              "└──────┴─────┴─────────────────────────────┴──────────┴─────────┴────────────────┴──────────┴─────────────────────┘\n",
              "</pre>\n"
            ],
            "text/plain": [
              "┏━━━━━━┳━━━━━┳━━━━━━━━━━━━━━━━━━━━━━━━━━━━━┳━━━━━━━━━━┳━━━━━━━━━┳━━━━━━━━━━━━━━━━┳━━━━━━━━━━┳━━━━━━━━━━━━━━━━━━━━━┓\n",
              "┃\u001b[1;35m \u001b[0m\u001b[1;35m id \u001b[0m\u001b[1;35m \u001b[0m┃\u001b[1;35m \u001b[0m\u001b[1;35mage\u001b[0m\u001b[1;35m \u001b[0m┃\u001b[1;35m \u001b[0m\u001b[1;35m      condition_desc       \u001b[0m\u001b[1;35m \u001b[0m┃\u001b[1;35m \u001b[0m\u001b[1;35mseverity\u001b[0m\u001b[1;35m \u001b[0m┃\u001b[1;35m \u001b[0m\u001b[1;35murgency\u001b[0m\u001b[1;35m \u001b[0m┃\u001b[1;35m \u001b[0m\u001b[1;35mensemble_score\u001b[0m\u001b[1;35m \u001b[0m┃\u001b[1;35m \u001b[0m\u001b[1;35mpriority\u001b[0m\u001b[1;35m \u001b[0m┃\u001b[1;35m \u001b[0m\u001b[1;35m    fuzzy_label    \u001b[0m\u001b[1;35m \u001b[0m┃\n",
              "┡━━━━━━╇━━━━━╇━━━━━━━━━━━━━━━━━━━━━━━━━━━━━╇━━━━━━━━━━╇━━━━━━━━━╇━━━━━━━━━━━━━━━━╇━━━━━━━━━━╇━━━━━━━━━━━━━━━━━━━━━┩\n",
              "│ P003 │ 72  │   Displaced Hip Fracture    │    85    │   90    │     1.000      │ Critical │ Emergency/Immediate │\n",
              "│ P010 │ 65  │    Chronic Heart Failure    │    85    │   80    │     0.964      │ Critical │ Emergency/Immediate │\n",
              "│ P002 │  8  │ Severe Asthma Exacerbation  │    80    │   85    │     0.870      │ Critical │ Emergency/Immediate │\n",
              "│ P005 │ 55  │    Acute Ischemic Stroke    │    90    │   95    │     0.848      │ Critical │ Emergency/Immediate │\n",
              "│ P001 │ 60  │ Acute Myocardial Infarction │    90    │   85    │     0.811      │ Critical │ Emergency/Immediate │\n",
              "│ P006 │ 60  │      Severe Pneumonia       │    85    │   80    │     0.768      │   High   │ Emergency/Immediate │\n",
              "│ P007 │ 35  │        Appendicitis         │    70    │   75    │     0.613      │   High   │ Emergency/Immediate │\n",
              "│ P008 │ 50  │        Fractured Arm        │    60    │   55    │     0.465      │  Medium  │       Urgent        │\n",
              "│ P009 │ 28  │       Migraine Attack       │    40    │   50    │     0.236      │   Low    │       Urgent        │\n",
              "│ P004 │ 25  │       Deep Laceration       │    30    │   25    │     0.000      │   Low    │       Routine       │\n",
              "└──────┴─────┴─────────────────────────────┴──────────┴─────────┴────────────────┴──────────┴─────────────────────┘\n"
            ]
          },
          "metadata": {},
          "output_type": "display_data"
        },
        {
          "data": {
            "text/html": [
              "<pre style=\"white-space:pre;overflow-x:auto;line-height:normal;font-family:Menlo,'DejaVu Sans Mono',consolas,'Courier New',monospace\">\n",
              "<span style=\"font-weight: bold\">Menu:</span>\n",
              "</pre>\n"
            ],
            "text/plain": [
              "\n",
              "\u001b[1mMenu:\u001b[0m\n"
            ]
          },
          "metadata": {},
          "output_type": "display_data"
        },
        {
          "data": {
            "text/html": [
              "<pre style=\"white-space:pre;overflow-x:auto;line-height:normal;font-family:Menlo,'DejaVu Sans Mono',consolas,'Courier New',monospace\"><span style=\"color: #008080; text-decoration-color: #008080; font-weight: bold\">1</span>. Load <span style=\"color: #008080; text-decoration-color: #008080; font-weight: bold\">10</span> fixed sample patients <span style=\"font-weight: bold\">(</span>demo<span style=\"font-weight: bold\">)</span>\n",
              "</pre>\n"
            ],
            "text/plain": [
              "\u001b[1;36m1\u001b[0m. Load \u001b[1;36m10\u001b[0m fixed sample patients \u001b[1m(\u001b[0mdemo\u001b[1m)\u001b[0m\n"
            ]
          },
          "metadata": {},
          "output_type": "display_data"
        },
        {
          "data": {
            "text/html": [
              "<pre style=\"white-space:pre;overflow-x:auto;line-height:normal;font-family:Menlo,'DejaVu Sans Mono',consolas,'Courier New',monospace\"><span style=\"color: #008080; text-decoration-color: #008080; font-weight: bold\">2</span>. Add one patient manually\n",
              "</pre>\n"
            ],
            "text/plain": [
              "\u001b[1;36m2\u001b[0m. Add one patient manually\n"
            ]
          },
          "metadata": {},
          "output_type": "display_data"
        },
        {
          "data": {
            "text/html": [
              "<pre style=\"white-space:pre;overflow-x:auto;line-height:normal;font-family:Menlo,'DejaVu Sans Mono',consolas,'Courier New',monospace\"><span style=\"color: #008080; text-decoration-color: #008080; font-weight: bold\">3</span>. Run triage <span style=\"font-weight: bold\">(</span>choose algorithm <span style=\"color: #800080; text-decoration-color: #800080\">/</span> ensemble<span style=\"font-weight: bold\">)</span>\n",
              "</pre>\n"
            ],
            "text/plain": [
              "\u001b[1;36m3\u001b[0m. Run triage \u001b[1m(\u001b[0mchoose algorithm \u001b[35m/\u001b[0m ensemble\u001b[1m)\u001b[0m\n"
            ]
          },
          "metadata": {},
          "output_type": "display_data"
        },
        {
          "data": {
            "text/html": [
              "<pre style=\"white-space:pre;overflow-x:auto;line-height:normal;font-family:Menlo,'DejaVu Sans Mono',consolas,'Courier New',monospace\"><span style=\"color: #008080; text-decoration-color: #008080; font-weight: bold\">4</span>. Show triage report <span style=\"font-weight: bold\">(</span>console<span style=\"font-weight: bold\">)</span>\n",
              "</pre>\n"
            ],
            "text/plain": [
              "\u001b[1;36m4\u001b[0m. Show triage report \u001b[1m(\u001b[0mconsole\u001b[1m)\u001b[0m\n"
            ]
          },
          "metadata": {},
          "output_type": "display_data"
        },
        {
          "data": {
            "text/html": [
              "<pre style=\"white-space:pre;overflow-x:auto;line-height:normal;font-family:Menlo,'DejaVu Sans Mono',consolas,'Courier New',monospace\"><span style=\"color: #008080; text-decoration-color: #008080; font-weight: bold\">5</span>. Route a patient to specialists <span style=\"font-weight: bold\">(</span>WASPAS + adaptive GNN + Similarity fusion<span style=\"font-weight: bold\">)</span>\n",
              "</pre>\n"
            ],
            "text/plain": [
              "\u001b[1;36m5\u001b[0m. Route a patient to specialists \u001b[1m(\u001b[0mWASPAS + adaptive GNN + Similarity fusion\u001b[1m)\u001b[0m\n"
            ]
          },
          "metadata": {},
          "output_type": "display_data"
        },
        {
          "data": {
            "text/html": [
              "<pre style=\"white-space:pre;overflow-x:auto;line-height:normal;font-family:Menlo,'DejaVu Sans Mono',consolas,'Courier New',monospace\"><span style=\"color: #008080; text-decoration-color: #008080; font-weight: bold\">6</span>. Visualize dashboard <span style=\"font-weight: bold\">(</span>Plotly<span style=\"font-weight: bold\">)</span>\n",
              "</pre>\n"
            ],
            "text/plain": [
              "\u001b[1;36m6\u001b[0m. Visualize dashboard \u001b[1m(\u001b[0mPlotly\u001b[1m)\u001b[0m\n"
            ]
          },
          "metadata": {},
          "output_type": "display_data"
        },
        {
          "data": {
            "text/html": [
              "<pre style=\"white-space:pre;overflow-x:auto;line-height:normal;font-family:Menlo,'DejaVu Sans Mono',consolas,'Courier New',monospace\"><span style=\"color: #008080; text-decoration-color: #008080; font-weight: bold\">7</span>. Export CSV of triage patient list\n",
              "</pre>\n"
            ],
            "text/plain": [
              "\u001b[1;36m7\u001b[0m. Export CSV of triage patient list\n"
            ]
          },
          "metadata": {},
          "output_type": "display_data"
        },
        {
          "data": {
            "text/html": [
              "<pre style=\"white-space:pre;overflow-x:auto;line-height:normal;font-family:Menlo,'DejaVu Sans Mono',consolas,'Courier New',monospace\"><span style=\"color: #008080; text-decoration-color: #008080; font-weight: bold\">8</span>. Export event log <span style=\"font-weight: bold\">(</span>JSON<span style=\"font-weight: bold\">)</span>\n",
              "</pre>\n"
            ],
            "text/plain": [
              "\u001b[1;36m8\u001b[0m. Export event log \u001b[1m(\u001b[0mJSON\u001b[1m)\u001b[0m\n"
            ]
          },
          "metadata": {},
          "output_type": "display_data"
        },
        {
          "data": {
            "text/html": [
              "<pre style=\"white-space:pre;overflow-x:auto;line-height:normal;font-family:Menlo,'DejaVu Sans Mono',consolas,'Courier New',monospace\"><span style=\"color: #008080; text-decoration-color: #008080; font-weight: bold\">9</span>. Simulation mode <span style=\"font-weight: bold\">(</span>stress test<span style=\"font-weight: bold\">)</span>\n",
              "</pre>\n"
            ],
            "text/plain": [
              "\u001b[1;36m9\u001b[0m. Simulation mode \u001b[1m(\u001b[0mstress test\u001b[1m)\u001b[0m\n"
            ]
          },
          "metadata": {},
          "output_type": "display_data"
        },
        {
          "data": {
            "text/html": [
              "<pre style=\"white-space:pre;overflow-x:auto;line-height:normal;font-family:Menlo,'DejaVu Sans Mono',consolas,'Courier New',monospace\"><span style=\"color: #008080; text-decoration-color: #008080; font-weight: bold\">10</span>. Clear all patients\n",
              "</pre>\n"
            ],
            "text/plain": [
              "\u001b[1;36m10\u001b[0m. Clear all patients\n"
            ]
          },
          "metadata": {},
          "output_type": "display_data"
        },
        {
          "data": {
            "text/html": [
              "<pre style=\"white-space:pre;overflow-x:auto;line-height:normal;font-family:Menlo,'DejaVu Sans Mono',consolas,'Courier New',monospace\"><span style=\"color: #008080; text-decoration-color: #008080; font-weight: bold\">11</span>. Exit\n",
              "</pre>\n"
            ],
            "text/plain": [
              "\u001b[1;36m11\u001b[0m. Exit\n"
            ]
          },
          "metadata": {},
          "output_type": "display_data"
        },
        {
          "data": {
            "text/html": [
              "<pre style=\"white-space:pre;overflow-x:auto;line-height:normal;font-family:Menlo,'DejaVu Sans Mono',consolas,'Courier New',monospace\">Choose (1-11) <span style=\"color: #008080; text-decoration-color: #008080; font-weight: bold\">(1)</span>: </pre>\n"
            ],
            "text/plain": [
              "Choose (1-11) \u001b[1;36m(1)\u001b[0m: "
            ]
          },
          "metadata": {},
          "output_type": "display_data"
        },
        {
          "data": {
            "text/html": [
              "<pre style=\"white-space:pre;overflow-x:auto;line-height:normal;font-family:Menlo,'DejaVu Sans Mono',consolas,'Courier New',monospace\">Choose triage algorithm  <span style=\"color: #008080; text-decoration-color: #008080; font-weight: bold\">(ensemble)</span>: </pre>\n"
            ],
            "text/plain": [
              "Choose triage algorithm  \u001b[1;36m(ensemble)\u001b[0m: "
            ]
          },
          "metadata": {},
          "output_type": "display_data"
        },
        {
          "data": {
            "text/html": [
              "<pre style=\"white-space:pre;overflow-x:auto;line-height:normal;font-family:Menlo,'DejaVu Sans Mono',consolas,'Courier New',monospace\"><span style=\"color: #008000; text-decoration-color: #008000\">PCA-derived weights </span><span style=\"color: #008000; text-decoration-color: #008000; font-weight: bold\">(</span><span style=\"color: #008000; text-decoration-color: #008000\">S,U,R,W,A</span><span style=\"color: #008000; text-decoration-color: #008000; font-weight: bold\">)</span><span style=\"color: #008000; text-decoration-color: #008000\">:</span> <span style=\"font-weight: bold\">[</span><span style=\"color: #008080; text-decoration-color: #008080; font-weight: bold\">0.21</span>, <span style=\"color: #008080; text-decoration-color: #008080; font-weight: bold\">0.203</span>, <span style=\"color: #008080; text-decoration-color: #008080; font-weight: bold\">0.2</span>, <span style=\"color: #008080; text-decoration-color: #008080; font-weight: bold\">0.208</span>, <span style=\"color: #008080; text-decoration-color: #008080; font-weight: bold\">0.179</span><span style=\"font-weight: bold\">]</span>\n",
              "</pre>\n"
            ],
            "text/plain": [
              "\u001b[32mPCA-derived weights \u001b[0m\u001b[1;32m(\u001b[0m\u001b[32mS,U,R,W,A\u001b[0m\u001b[1;32m)\u001b[0m\u001b[32m:\u001b[0m \u001b[1m[\u001b[0m\u001b[1;36m0.21\u001b[0m, \u001b[1;36m0.203\u001b[0m, \u001b[1;36m0.2\u001b[0m, \u001b[1;36m0.208\u001b[0m, \u001b[1;36m0.179\u001b[0m\u001b[1m]\u001b[0m\n"
            ]
          },
          "metadata": {},
          "output_type": "display_data"
        },
        {
          "data": {
            "text/html": [
              "<pre style=\"white-space:pre;overflow-x:auto;line-height:normal;font-family:Menlo,'DejaVu Sans Mono',consolas,'Courier New',monospace\"><span style=\"color: #008000; text-decoration-color: #008000\">Triage complete: patients ranked by chosen algorithm/ensemble.</span>\n",
              "</pre>\n"
            ],
            "text/plain": [
              "\u001b[32mTriage complete: patients ranked by chosen algorithm/ensemble.\u001b[0m\n"
            ]
          },
          "metadata": {},
          "output_type": "display_data"
        },
        {
          "data": {
            "text/html": [
              "<pre style=\"white-space:pre;overflow-x:auto;line-height:normal;font-family:Menlo,'DejaVu Sans Mono',consolas,'Courier New',monospace\"><span style=\"color: #008080; text-decoration-color: #008080\">Feature weights used </span><span style=\"color: #008080; text-decoration-color: #008080; font-weight: bold\">(</span><span style=\"color: #008080; text-decoration-color: #008080\">S,U,R,W,A</span><span style=\"color: #008080; text-decoration-color: #008080; font-weight: bold\">)</span><span style=\"color: #008080; text-decoration-color: #008080\">:</span>\n",
              "<span style=\"font-weight: bold\">[</span><span style=\"color: #008080; text-decoration-color: #008080; font-weight: bold\">0.21</span>, <span style=\"color: #008080; text-decoration-color: #008080; font-weight: bold\">0.203</span>, <span style=\"color: #008080; text-decoration-color: #008080; font-weight: bold\">0.2</span>, <span style=\"color: #008080; text-decoration-color: #008080; font-weight: bold\">0.208</span>, <span style=\"color: #008080; text-decoration-color: #008080; font-weight: bold\">0.179</span><span style=\"font-weight: bold\">]</span>\n",
              "</pre>\n"
            ],
            "text/plain": [
              "\u001b[36mFeature weights used \u001b[0m\u001b[1;36m(\u001b[0m\u001b[36mS,U,R,W,A\u001b[0m\u001b[1;36m)\u001b[0m\u001b[36m:\u001b[0m\n",
              "\u001b[1m[\u001b[0m\u001b[1;36m0.21\u001b[0m, \u001b[1;36m0.203\u001b[0m, \u001b[1;36m0.2\u001b[0m, \u001b[1;36m0.208\u001b[0m, \u001b[1;36m0.179\u001b[0m\u001b[1m]\u001b[0m\n"
            ]
          },
          "metadata": {},
          "output_type": "display_data"
        },
        {
          "data": {
            "text/html": [
              "<pre style=\"white-space:pre;overflow-x:auto;line-height:normal;font-family:Menlo,'DejaVu Sans Mono',consolas,'Courier New',monospace\"><span style=\"color: #008080; text-decoration-color: #008080\">PCA explained variance </span><span style=\"color: #008080; text-decoration-color: #008080; font-weight: bold\">(</span><span style=\"color: #008080; text-decoration-color: #008080\">first components</span><span style=\"color: #008080; text-decoration-color: #008080; font-weight: bold\">)</span><span style=\"color: #008080; text-decoration-color: #008080\">:</span>\n",
              "<span style=\"font-weight: bold\">[</span><span style=\"color: #008080; text-decoration-color: #008080; font-weight: bold\">0.825</span>, <span style=\"color: #008080; text-decoration-color: #008080; font-weight: bold\">0.156</span>, <span style=\"color: #008080; text-decoration-color: #008080; font-weight: bold\">0.015</span><span style=\"font-weight: bold\">]</span>\n",
              "</pre>\n"
            ],
            "text/plain": [
              "\u001b[36mPCA explained variance \u001b[0m\u001b[1;36m(\u001b[0m\u001b[36mfirst components\u001b[0m\u001b[1;36m)\u001b[0m\u001b[36m:\u001b[0m\n",
              "\u001b[1m[\u001b[0m\u001b[1;36m0.825\u001b[0m, \u001b[1;36m0.156\u001b[0m, \u001b[1;36m0.015\u001b[0m\u001b[1m]\u001b[0m\n"
            ]
          },
          "metadata": {},
          "output_type": "display_data"
        },
        {
          "data": {
            "text/html": [
              "<pre style=\"white-space:pre;overflow-x:auto;line-height:normal;font-family:Menlo,'DejaVu Sans Mono',consolas,'Courier New',monospace\">\n",
              "<span style=\"font-weight: bold\">Menu:</span>\n",
              "</pre>\n"
            ],
            "text/plain": [
              "\n",
              "\u001b[1mMenu:\u001b[0m\n"
            ]
          },
          "metadata": {},
          "output_type": "display_data"
        },
        {
          "data": {
            "text/html": [
              "<pre style=\"white-space:pre;overflow-x:auto;line-height:normal;font-family:Menlo,'DejaVu Sans Mono',consolas,'Courier New',monospace\"><span style=\"color: #008080; text-decoration-color: #008080; font-weight: bold\">1</span>. Load <span style=\"color: #008080; text-decoration-color: #008080; font-weight: bold\">10</span> fixed sample patients <span style=\"font-weight: bold\">(</span>demo<span style=\"font-weight: bold\">)</span>\n",
              "</pre>\n"
            ],
            "text/plain": [
              "\u001b[1;36m1\u001b[0m. Load \u001b[1;36m10\u001b[0m fixed sample patients \u001b[1m(\u001b[0mdemo\u001b[1m)\u001b[0m\n"
            ]
          },
          "metadata": {},
          "output_type": "display_data"
        },
        {
          "data": {
            "text/html": [
              "<pre style=\"white-space:pre;overflow-x:auto;line-height:normal;font-family:Menlo,'DejaVu Sans Mono',consolas,'Courier New',monospace\"><span style=\"color: #008080; text-decoration-color: #008080; font-weight: bold\">2</span>. Add one patient manually\n",
              "</pre>\n"
            ],
            "text/plain": [
              "\u001b[1;36m2\u001b[0m. Add one patient manually\n"
            ]
          },
          "metadata": {},
          "output_type": "display_data"
        },
        {
          "data": {
            "text/html": [
              "<pre style=\"white-space:pre;overflow-x:auto;line-height:normal;font-family:Menlo,'DejaVu Sans Mono',consolas,'Courier New',monospace\"><span style=\"color: #008080; text-decoration-color: #008080; font-weight: bold\">3</span>. Run triage <span style=\"font-weight: bold\">(</span>choose algorithm <span style=\"color: #800080; text-decoration-color: #800080\">/</span> ensemble<span style=\"font-weight: bold\">)</span>\n",
              "</pre>\n"
            ],
            "text/plain": [
              "\u001b[1;36m3\u001b[0m. Run triage \u001b[1m(\u001b[0mchoose algorithm \u001b[35m/\u001b[0m ensemble\u001b[1m)\u001b[0m\n"
            ]
          },
          "metadata": {},
          "output_type": "display_data"
        },
        {
          "data": {
            "text/html": [
              "<pre style=\"white-space:pre;overflow-x:auto;line-height:normal;font-family:Menlo,'DejaVu Sans Mono',consolas,'Courier New',monospace\"><span style=\"color: #008080; text-decoration-color: #008080; font-weight: bold\">4</span>. Show triage report <span style=\"font-weight: bold\">(</span>console<span style=\"font-weight: bold\">)</span>\n",
              "</pre>\n"
            ],
            "text/plain": [
              "\u001b[1;36m4\u001b[0m. Show triage report \u001b[1m(\u001b[0mconsole\u001b[1m)\u001b[0m\n"
            ]
          },
          "metadata": {},
          "output_type": "display_data"
        },
        {
          "data": {
            "text/html": [
              "<pre style=\"white-space:pre;overflow-x:auto;line-height:normal;font-family:Menlo,'DejaVu Sans Mono',consolas,'Courier New',monospace\"><span style=\"color: #008080; text-decoration-color: #008080; font-weight: bold\">5</span>. Route a patient to specialists <span style=\"font-weight: bold\">(</span>WASPAS + adaptive GNN + Similarity fusion<span style=\"font-weight: bold\">)</span>\n",
              "</pre>\n"
            ],
            "text/plain": [
              "\u001b[1;36m5\u001b[0m. Route a patient to specialists \u001b[1m(\u001b[0mWASPAS + adaptive GNN + Similarity fusion\u001b[1m)\u001b[0m\n"
            ]
          },
          "metadata": {},
          "output_type": "display_data"
        },
        {
          "data": {
            "text/html": [
              "<pre style=\"white-space:pre;overflow-x:auto;line-height:normal;font-family:Menlo,'DejaVu Sans Mono',consolas,'Courier New',monospace\"><span style=\"color: #008080; text-decoration-color: #008080; font-weight: bold\">6</span>. Visualize dashboard <span style=\"font-weight: bold\">(</span>Plotly<span style=\"font-weight: bold\">)</span>\n",
              "</pre>\n"
            ],
            "text/plain": [
              "\u001b[1;36m6\u001b[0m. Visualize dashboard \u001b[1m(\u001b[0mPlotly\u001b[1m)\u001b[0m\n"
            ]
          },
          "metadata": {},
          "output_type": "display_data"
        },
        {
          "data": {
            "text/html": [
              "<pre style=\"white-space:pre;overflow-x:auto;line-height:normal;font-family:Menlo,'DejaVu Sans Mono',consolas,'Courier New',monospace\"><span style=\"color: #008080; text-decoration-color: #008080; font-weight: bold\">7</span>. Export CSV of triage patient list\n",
              "</pre>\n"
            ],
            "text/plain": [
              "\u001b[1;36m7\u001b[0m. Export CSV of triage patient list\n"
            ]
          },
          "metadata": {},
          "output_type": "display_data"
        },
        {
          "data": {
            "text/html": [
              "<pre style=\"white-space:pre;overflow-x:auto;line-height:normal;font-family:Menlo,'DejaVu Sans Mono',consolas,'Courier New',monospace\"><span style=\"color: #008080; text-decoration-color: #008080; font-weight: bold\">8</span>. Export event log <span style=\"font-weight: bold\">(</span>JSON<span style=\"font-weight: bold\">)</span>\n",
              "</pre>\n"
            ],
            "text/plain": [
              "\u001b[1;36m8\u001b[0m. Export event log \u001b[1m(\u001b[0mJSON\u001b[1m)\u001b[0m\n"
            ]
          },
          "metadata": {},
          "output_type": "display_data"
        },
        {
          "data": {
            "text/html": [
              "<pre style=\"white-space:pre;overflow-x:auto;line-height:normal;font-family:Menlo,'DejaVu Sans Mono',consolas,'Courier New',monospace\"><span style=\"color: #008080; text-decoration-color: #008080; font-weight: bold\">9</span>. Simulation mode <span style=\"font-weight: bold\">(</span>stress test<span style=\"font-weight: bold\">)</span>\n",
              "</pre>\n"
            ],
            "text/plain": [
              "\u001b[1;36m9\u001b[0m. Simulation mode \u001b[1m(\u001b[0mstress test\u001b[1m)\u001b[0m\n"
            ]
          },
          "metadata": {},
          "output_type": "display_data"
        },
        {
          "data": {
            "text/html": [
              "<pre style=\"white-space:pre;overflow-x:auto;line-height:normal;font-family:Menlo,'DejaVu Sans Mono',consolas,'Courier New',monospace\"><span style=\"color: #008080; text-decoration-color: #008080; font-weight: bold\">10</span>. Clear all patients\n",
              "</pre>\n"
            ],
            "text/plain": [
              "\u001b[1;36m10\u001b[0m. Clear all patients\n"
            ]
          },
          "metadata": {},
          "output_type": "display_data"
        },
        {
          "data": {
            "text/html": [
              "<pre style=\"white-space:pre;overflow-x:auto;line-height:normal;font-family:Menlo,'DejaVu Sans Mono',consolas,'Courier New',monospace\"><span style=\"color: #008080; text-decoration-color: #008080; font-weight: bold\">11</span>. Exit\n",
              "</pre>\n"
            ],
            "text/plain": [
              "\u001b[1;36m11\u001b[0m. Exit\n"
            ]
          },
          "metadata": {},
          "output_type": "display_data"
        },
        {
          "data": {
            "text/html": [
              "<pre style=\"white-space:pre;overflow-x:auto;line-height:normal;font-family:Menlo,'DejaVu Sans Mono',consolas,'Courier New',monospace\">Choose (1-11) <span style=\"color: #008080; text-decoration-color: #008080; font-weight: bold\">(1)</span>: </pre>\n"
            ],
            "text/plain": [
              "Choose (1-11) \u001b[1;36m(1)\u001b[0m: "
            ]
          },
          "metadata": {},
          "output_type": "display_data"
        },
        {
          "data": {
            "text/html": [
              "<pre style=\"white-space:pre;overflow-x:auto;line-height:normal;font-family:Menlo,'DejaVu Sans Mono',consolas,'Courier New',monospace\">\n",
              "<span style=\"color: #808000; text-decoration-color: #808000; font-weight: bold\">==== TRIAGE REPORT (Full) ====</span>\n",
              "</pre>\n"
            ],
            "text/plain": [
              "\n",
              "\u001b[1;33m==== TRIAGE REPORT \u001b[0m\u001b[1;33m(\u001b[0m\u001b[1;33mFull\u001b[0m\u001b[1;33m)\u001b[0m\u001b[1;33m ====\u001b[0m\n"
            ]
          },
          "metadata": {},
          "output_type": "display_data"
        },
        {
          "data": {
            "text/html": [
              "<pre style=\"white-space:pre;overflow-x:auto;line-height:normal;font-family:Menlo,'DejaVu Sans Mono',consolas,'Courier New',monospace\">┏━━━━━━┳━━━━━┳━━━━━━━━┳━━━━━━━━┳━━━━━━━━┳━━━━━━━━┳━━━━━━━━┳━━━━━━━━┳━━━━━━━━┳━━━━━━━━━┳━━━━━━━━┳━━━━━━━━━┳━━━━━━━━┓\n",
              "┃<span style=\"color: #800080; text-decoration-color: #800080; font-weight: bold\">  id  </span>┃<span style=\"color: #800080; text-decoration-color: #800080; font-weight: bold\"> age </span>┃<span style=\"color: #800080; text-decoration-color: #800080; font-weight: bold\"> condi… </span>┃<span style=\"color: #800080; text-decoration-color: #800080; font-weight: bold\"> sever… </span>┃<span style=\"color: #800080; text-decoration-color: #800080; font-weight: bold\"> urgen… </span>┃<span style=\"color: #800080; text-decoration-color: #800080; font-weight: bold\"> resou… </span>┃<span style=\"color: #800080; text-decoration-color: #800080; font-weight: bold\"> waiti… </span>┃<span style=\"color: #800080; text-decoration-color: #800080; font-weight: bold\"> pain_… </span>┃<span style=\"color: #800080; text-decoration-color: #800080; font-weight: bold\"> topsi… </span>┃<span style=\"color: #800080; text-decoration-color: #800080; font-weight: bold\"> promet… </span>┃<span style=\"color: #800080; text-decoration-color: #800080; font-weight: bold\"> fuzzy… </span>┃<span style=\"color: #800080; text-decoration-color: #800080; font-weight: bold\"> ensemb… </span>┃<span style=\"color: #800080; text-decoration-color: #800080; font-weight: bold\"> prior… </span>┃\n",
              "┡━━━━━━╇━━━━━╇━━━━━━━━╇━━━━━━━━╇━━━━━━━━╇━━━━━━━━╇━━━━━━━━╇━━━━━━━━╇━━━━━━━━╇━━━━━━━━━╇━━━━━━━━╇━━━━━━━━━╇━━━━━━━━┩\n",
              "│ P003 │ 72  │ Displ… │   85   │   90   │   85   │   88   │   6    │ 0.940  │ 0.4909  │ 0.950  │  1.000  │ Criti… │\n",
              "│      │     │  Hip   │        │        │        │        │        │        │         │        │         │        │\n",
              "│      │     │ Fract… │        │        │        │        │        │        │         │        │         │        │\n",
              "│ P010 │ 65  │ Chron… │   85   │   80   │   90   │   85   │   5    │ 0.894  │ 0.4388  │ 0.950  │  0.964  │ Criti… │\n",
              "│      │     │ Heart  │        │        │        │        │        │        │         │        │         │        │\n",
              "│      │     │ Failu… │        │        │        │        │        │        │         │        │         │        │\n",
              "│ P002 │  8  │ Severe │   80   │   85   │   70   │   80   │   6    │ 0.795  │ 0.2633  │ 0.950  │  0.870  │ Criti… │\n",
              "│      │     │ Asthma │        │        │        │        │        │        │         │        │         │        │\n",
              "│      │     │ Exace… │        │        │        │        │        │        │         │        │         │        │\n",
              "│ P005 │ 55  │ Acute  │   90   │   95   │   90   │   90   │   3    │ 0.703  │ 0.3803  │ 0.950  │  0.848  │ Criti… │\n",
              "│      │     │ Ische… │        │        │        │        │        │        │         │        │         │        │\n",
              "│      │     │ Stroke │        │        │        │        │        │        │         │        │         │        │\n",
              "│ P001 │ 60  │ Acute  │   90   │   85   │   80   │   90   │   7    │ 0.680  │ 0.2742  │ 0.950  │  0.811  │ Criti… │\n",
              "│      │     │ Myoca… │        │        │        │        │        │        │         │        │         │        │\n",
              "│      │     │ Infar… │        │        │        │        │        │        │         │        │         │        │\n",
              "│ P006 │ 60  │ Severe │   85   │   80   │   75   │   85   │   7    │ 0.653  │ 0.1551  │ 0.950  │  0.768  │  High  │\n",
              "│      │     │ Pneum… │        │        │        │        │        │        │         │        │         │        │\n",
              "│ P007 │ 35  │ Appen… │   70   │   75   │   60   │   65   │   8    │ 0.538  │ -0.1634 │ 0.879  │  0.613  │  High  │\n",
              "│ P008 │ 50  │ Fract… │   60   │   55   │   50   │   60   │   5    │ 0.419  │ -0.3853 │ 0.762  │  0.465  │ Medium │\n",
              "│      │     │  Arm   │        │        │        │        │        │        │         │        │         │        │\n",
              "│ P009 │ 28  │ Migra… │   40   │   50   │   20   │   30   │   7    │ 0.179  │ -0.6678 │ 0.637  │  0.236  │  Low   │\n",
              "│      │     │ Attack │        │        │        │        │        │        │         │        │         │        │\n",
              "│ P004 │ 25  │  Deep  │   30   │   25   │   20   │   20   │   2    │ 0.000  │ -0.7861 │ 0.230  │  0.000  │  Low   │\n",
              "│      │     │ Lacer… │        │        │        │        │        │        │         │        │         │        │\n",
              "└──────┴─────┴────────┴────────┴────────┴────────┴────────┴────────┴────────┴─────────┴────────┴─────────┴────────┘\n",
              "</pre>\n"
            ],
            "text/plain": [
              "┏━━━━━━┳━━━━━┳━━━━━━━━┳━━━━━━━━┳━━━━━━━━┳━━━━━━━━┳━━━━━━━━┳━━━━━━━━┳━━━━━━━━┳━━━━━━━━━┳━━━━━━━━┳━━━━━━━━━┳━━━━━━━━┓\n",
              "┃\u001b[1;35m \u001b[0m\u001b[1;35m id \u001b[0m\u001b[1;35m \u001b[0m┃\u001b[1;35m \u001b[0m\u001b[1;35mage\u001b[0m\u001b[1;35m \u001b[0m┃\u001b[1;35m \u001b[0m\u001b[1;35mcondi…\u001b[0m\u001b[1;35m \u001b[0m┃\u001b[1;35m \u001b[0m\u001b[1;35msever…\u001b[0m\u001b[1;35m \u001b[0m┃\u001b[1;35m \u001b[0m\u001b[1;35murgen…\u001b[0m\u001b[1;35m \u001b[0m┃\u001b[1;35m \u001b[0m\u001b[1;35mresou…\u001b[0m\u001b[1;35m \u001b[0m┃\u001b[1;35m \u001b[0m\u001b[1;35mwaiti…\u001b[0m\u001b[1;35m \u001b[0m┃\u001b[1;35m \u001b[0m\u001b[1;35mpain_…\u001b[0m\u001b[1;35m \u001b[0m┃\u001b[1;35m \u001b[0m\u001b[1;35mtopsi…\u001b[0m\u001b[1;35m \u001b[0m┃\u001b[1;35m \u001b[0m\u001b[1;35mpromet…\u001b[0m\u001b[1;35m \u001b[0m┃\u001b[1;35m \u001b[0m\u001b[1;35mfuzzy…\u001b[0m\u001b[1;35m \u001b[0m┃\u001b[1;35m \u001b[0m\u001b[1;35mensemb…\u001b[0m\u001b[1;35m \u001b[0m┃\u001b[1;35m \u001b[0m\u001b[1;35mprior…\u001b[0m\u001b[1;35m \u001b[0m┃\n",
              "┡━━━━━━╇━━━━━╇━━━━━━━━╇━━━━━━━━╇━━━━━━━━╇━━━━━━━━╇━━━━━━━━╇━━━━━━━━╇━━━━━━━━╇━━━━━━━━━╇━━━━━━━━╇━━━━━━━━━╇━━━━━━━━┩\n",
              "│ P003 │ 72  │ Displ… │   85   │   90   │   85   │   88   │   6    │ 0.940  │ 0.4909  │ 0.950  │  1.000  │ Criti… │\n",
              "│      │     │  Hip   │        │        │        │        │        │        │         │        │         │        │\n",
              "│      │     │ Fract… │        │        │        │        │        │        │         │        │         │        │\n",
              "│ P010 │ 65  │ Chron… │   85   │   80   │   90   │   85   │   5    │ 0.894  │ 0.4388  │ 0.950  │  0.964  │ Criti… │\n",
              "│      │     │ Heart  │        │        │        │        │        │        │         │        │         │        │\n",
              "│      │     │ Failu… │        │        │        │        │        │        │         │        │         │        │\n",
              "│ P002 │  8  │ Severe │   80   │   85   │   70   │   80   │   6    │ 0.795  │ 0.2633  │ 0.950  │  0.870  │ Criti… │\n",
              "│      │     │ Asthma │        │        │        │        │        │        │         │        │         │        │\n",
              "│      │     │ Exace… │        │        │        │        │        │        │         │        │         │        │\n",
              "│ P005 │ 55  │ Acute  │   90   │   95   │   90   │   90   │   3    │ 0.703  │ 0.3803  │ 0.950  │  0.848  │ Criti… │\n",
              "│      │     │ Ische… │        │        │        │        │        │        │         │        │         │        │\n",
              "│      │     │ Stroke │        │        │        │        │        │        │         │        │         │        │\n",
              "│ P001 │ 60  │ Acute  │   90   │   85   │   80   │   90   │   7    │ 0.680  │ 0.2742  │ 0.950  │  0.811  │ Criti… │\n",
              "│      │     │ Myoca… │        │        │        │        │        │        │         │        │         │        │\n",
              "│      │     │ Infar… │        │        │        │        │        │        │         │        │         │        │\n",
              "│ P006 │ 60  │ Severe │   85   │   80   │   75   │   85   │   7    │ 0.653  │ 0.1551  │ 0.950  │  0.768  │  High  │\n",
              "│      │     │ Pneum… │        │        │        │        │        │        │         │        │         │        │\n",
              "│ P007 │ 35  │ Appen… │   70   │   75   │   60   │   65   │   8    │ 0.538  │ -0.1634 │ 0.879  │  0.613  │  High  │\n",
              "│ P008 │ 50  │ Fract… │   60   │   55   │   50   │   60   │   5    │ 0.419  │ -0.3853 │ 0.762  │  0.465  │ Medium │\n",
              "│      │     │  Arm   │        │        │        │        │        │        │         │        │         │        │\n",
              "│ P009 │ 28  │ Migra… │   40   │   50   │   20   │   30   │   7    │ 0.179  │ -0.6678 │ 0.637  │  0.236  │  Low   │\n",
              "│      │     │ Attack │        │        │        │        │        │        │         │        │         │        │\n",
              "│ P004 │ 25  │  Deep  │   30   │   25   │   20   │   20   │   2    │ 0.000  │ -0.7861 │ 0.230  │  0.000  │  Low   │\n",
              "│      │     │ Lacer… │        │        │        │        │        │        │         │        │         │        │\n",
              "└──────┴─────┴────────┴────────┴────────┴────────┴────────┴────────┴────────┴─────────┴────────┴─────────┴────────┘\n"
            ]
          },
          "metadata": {},
          "output_type": "display_data"
        },
        {
          "data": {
            "text/html": [
              "<pre style=\"white-space:pre;overflow-x:auto;line-height:normal;font-family:Menlo,'DejaVu Sans Mono',consolas,'Courier New',monospace\">\n",
              "<span style=\"font-weight: bold\">Menu:</span>\n",
              "</pre>\n"
            ],
            "text/plain": [
              "\n",
              "\u001b[1mMenu:\u001b[0m\n"
            ]
          },
          "metadata": {},
          "output_type": "display_data"
        },
        {
          "data": {
            "text/html": [
              "<pre style=\"white-space:pre;overflow-x:auto;line-height:normal;font-family:Menlo,'DejaVu Sans Mono',consolas,'Courier New',monospace\"><span style=\"color: #008080; text-decoration-color: #008080; font-weight: bold\">1</span>. Load <span style=\"color: #008080; text-decoration-color: #008080; font-weight: bold\">10</span> fixed sample patients <span style=\"font-weight: bold\">(</span>demo<span style=\"font-weight: bold\">)</span>\n",
              "</pre>\n"
            ],
            "text/plain": [
              "\u001b[1;36m1\u001b[0m. Load \u001b[1;36m10\u001b[0m fixed sample patients \u001b[1m(\u001b[0mdemo\u001b[1m)\u001b[0m\n"
            ]
          },
          "metadata": {},
          "output_type": "display_data"
        },
        {
          "data": {
            "text/html": [
              "<pre style=\"white-space:pre;overflow-x:auto;line-height:normal;font-family:Menlo,'DejaVu Sans Mono',consolas,'Courier New',monospace\"><span style=\"color: #008080; text-decoration-color: #008080; font-weight: bold\">2</span>. Add one patient manually\n",
              "</pre>\n"
            ],
            "text/plain": [
              "\u001b[1;36m2\u001b[0m. Add one patient manually\n"
            ]
          },
          "metadata": {},
          "output_type": "display_data"
        },
        {
          "data": {
            "text/html": [
              "<pre style=\"white-space:pre;overflow-x:auto;line-height:normal;font-family:Menlo,'DejaVu Sans Mono',consolas,'Courier New',monospace\"><span style=\"color: #008080; text-decoration-color: #008080; font-weight: bold\">3</span>. Run triage <span style=\"font-weight: bold\">(</span>choose algorithm <span style=\"color: #800080; text-decoration-color: #800080\">/</span> ensemble<span style=\"font-weight: bold\">)</span>\n",
              "</pre>\n"
            ],
            "text/plain": [
              "\u001b[1;36m3\u001b[0m. Run triage \u001b[1m(\u001b[0mchoose algorithm \u001b[35m/\u001b[0m ensemble\u001b[1m)\u001b[0m\n"
            ]
          },
          "metadata": {},
          "output_type": "display_data"
        },
        {
          "data": {
            "text/html": [
              "<pre style=\"white-space:pre;overflow-x:auto;line-height:normal;font-family:Menlo,'DejaVu Sans Mono',consolas,'Courier New',monospace\"><span style=\"color: #008080; text-decoration-color: #008080; font-weight: bold\">4</span>. Show triage report <span style=\"font-weight: bold\">(</span>console<span style=\"font-weight: bold\">)</span>\n",
              "</pre>\n"
            ],
            "text/plain": [
              "\u001b[1;36m4\u001b[0m. Show triage report \u001b[1m(\u001b[0mconsole\u001b[1m)\u001b[0m\n"
            ]
          },
          "metadata": {},
          "output_type": "display_data"
        },
        {
          "data": {
            "text/html": [
              "<pre style=\"white-space:pre;overflow-x:auto;line-height:normal;font-family:Menlo,'DejaVu Sans Mono',consolas,'Courier New',monospace\"><span style=\"color: #008080; text-decoration-color: #008080; font-weight: bold\">5</span>. Route a patient to specialists <span style=\"font-weight: bold\">(</span>WASPAS + adaptive GNN + Similarity fusion<span style=\"font-weight: bold\">)</span>\n",
              "</pre>\n"
            ],
            "text/plain": [
              "\u001b[1;36m5\u001b[0m. Route a patient to specialists \u001b[1m(\u001b[0mWASPAS + adaptive GNN + Similarity fusion\u001b[1m)\u001b[0m\n"
            ]
          },
          "metadata": {},
          "output_type": "display_data"
        },
        {
          "data": {
            "text/html": [
              "<pre style=\"white-space:pre;overflow-x:auto;line-height:normal;font-family:Menlo,'DejaVu Sans Mono',consolas,'Courier New',monospace\"><span style=\"color: #008080; text-decoration-color: #008080; font-weight: bold\">6</span>. Visualize dashboard <span style=\"font-weight: bold\">(</span>Plotly<span style=\"font-weight: bold\">)</span>\n",
              "</pre>\n"
            ],
            "text/plain": [
              "\u001b[1;36m6\u001b[0m. Visualize dashboard \u001b[1m(\u001b[0mPlotly\u001b[1m)\u001b[0m\n"
            ]
          },
          "metadata": {},
          "output_type": "display_data"
        },
        {
          "data": {
            "text/html": [
              "<pre style=\"white-space:pre;overflow-x:auto;line-height:normal;font-family:Menlo,'DejaVu Sans Mono',consolas,'Courier New',monospace\"><span style=\"color: #008080; text-decoration-color: #008080; font-weight: bold\">7</span>. Export CSV of triage patient list\n",
              "</pre>\n"
            ],
            "text/plain": [
              "\u001b[1;36m7\u001b[0m. Export CSV of triage patient list\n"
            ]
          },
          "metadata": {},
          "output_type": "display_data"
        },
        {
          "data": {
            "text/html": [
              "<pre style=\"white-space:pre;overflow-x:auto;line-height:normal;font-family:Menlo,'DejaVu Sans Mono',consolas,'Courier New',monospace\"><span style=\"color: #008080; text-decoration-color: #008080; font-weight: bold\">8</span>. Export event log <span style=\"font-weight: bold\">(</span>JSON<span style=\"font-weight: bold\">)</span>\n",
              "</pre>\n"
            ],
            "text/plain": [
              "\u001b[1;36m8\u001b[0m. Export event log \u001b[1m(\u001b[0mJSON\u001b[1m)\u001b[0m\n"
            ]
          },
          "metadata": {},
          "output_type": "display_data"
        },
        {
          "data": {
            "text/html": [
              "<pre style=\"white-space:pre;overflow-x:auto;line-height:normal;font-family:Menlo,'DejaVu Sans Mono',consolas,'Courier New',monospace\"><span style=\"color: #008080; text-decoration-color: #008080; font-weight: bold\">9</span>. Simulation mode <span style=\"font-weight: bold\">(</span>stress test<span style=\"font-weight: bold\">)</span>\n",
              "</pre>\n"
            ],
            "text/plain": [
              "\u001b[1;36m9\u001b[0m. Simulation mode \u001b[1m(\u001b[0mstress test\u001b[1m)\u001b[0m\n"
            ]
          },
          "metadata": {},
          "output_type": "display_data"
        },
        {
          "data": {
            "text/html": [
              "<pre style=\"white-space:pre;overflow-x:auto;line-height:normal;font-family:Menlo,'DejaVu Sans Mono',consolas,'Courier New',monospace\"><span style=\"color: #008080; text-decoration-color: #008080; font-weight: bold\">10</span>. Clear all patients\n",
              "</pre>\n"
            ],
            "text/plain": [
              "\u001b[1;36m10\u001b[0m. Clear all patients\n"
            ]
          },
          "metadata": {},
          "output_type": "display_data"
        },
        {
          "data": {
            "text/html": [
              "<pre style=\"white-space:pre;overflow-x:auto;line-height:normal;font-family:Menlo,'DejaVu Sans Mono',consolas,'Courier New',monospace\"><span style=\"color: #008080; text-decoration-color: #008080; font-weight: bold\">11</span>. Exit\n",
              "</pre>\n"
            ],
            "text/plain": [
              "\u001b[1;36m11\u001b[0m. Exit\n"
            ]
          },
          "metadata": {},
          "output_type": "display_data"
        },
        {
          "data": {
            "text/html": [
              "<pre style=\"white-space:pre;overflow-x:auto;line-height:normal;font-family:Menlo,'DejaVu Sans Mono',consolas,'Courier New',monospace\">Choose (1-11) <span style=\"color: #008080; text-decoration-color: #008080; font-weight: bold\">(1)</span>: </pre>\n"
            ],
            "text/plain": [
              "Choose (1-11) \u001b[1;36m(1)\u001b[0m: "
            ]
          },
          "metadata": {},
          "output_type": "display_data"
        },
        {
          "data": {
            "text/html": [
              "<pre style=\"white-space:pre;overflow-x:auto;line-height:normal;font-family:Menlo,'DejaVu Sans Mono',consolas,'Courier New',monospace\">Enter patient ID to route (e.g., P001): </pre>\n"
            ],
            "text/plain": [
              "Enter patient ID to route (e.g., P001): "
            ]
          },
          "metadata": {},
          "output_type": "display_data"
        },
        {
          "data": {
            "text/html": [
              "<pre style=\"white-space:pre;overflow-x:auto;line-height:normal;font-family:Menlo,'DejaVu Sans Mono',consolas,'Courier New',monospace\">\n",
              "<span style=\"color: #808000; text-decoration-color: #808000; font-weight: bold\">Routing result for P008 (top </span><span style=\"color: #808000; text-decoration-color: #808000; font-weight: bold\">3</span><span style=\"color: #808000; text-decoration-color: #808000; font-weight: bold\">):</span>\n",
              "</pre>\n"
            ],
            "text/plain": [
              "\n",
              "\u001b[1;33mRouting result for P008 \u001b[0m\u001b[1;33m(\u001b[0m\u001b[1;33mtop \u001b[0m\u001b[1;33m3\u001b[0m\u001b[1;33m)\u001b[0m\u001b[1;33m:\u001b[0m\n"
            ]
          },
          "metadata": {},
          "output_type": "display_data"
        },
        {
          "data": {
            "text/html": [
              "<pre style=\"white-space:pre;overflow-x:auto;line-height:normal;font-family:Menlo,'DejaVu Sans Mono',consolas,'Courier New',monospace\"> - Specialist_5 <span style=\"font-weight: bold\">(</span>EMER_05<span style=\"font-weight: bold\">)</span> | fused score: <span style=\"color: #008080; text-decoration-color: #008080; font-weight: bold\">0.825</span>\n",
              "</pre>\n"
            ],
            "text/plain": [
              " - Specialist_5 \u001b[1m(\u001b[0mEMER_05\u001b[1m)\u001b[0m | fused score: \u001b[1;36m0.825\u001b[0m\n"
            ]
          },
          "metadata": {},
          "output_type": "display_data"
        },
        {
          "data": {
            "text/html": [
              "<pre style=\"white-space:pre;overflow-x:auto;line-height:normal;font-family:Menlo,'DejaVu Sans Mono',consolas,'Courier New',monospace\"> - Specialist_1 <span style=\"font-weight: bold\">(</span>CARD_01<span style=\"font-weight: bold\">)</span> | fused score: <span style=\"color: #008080; text-decoration-color: #008080; font-weight: bold\">0.775</span>\n",
              "</pre>\n"
            ],
            "text/plain": [
              " - Specialist_1 \u001b[1m(\u001b[0mCARD_01\u001b[1m)\u001b[0m | fused score: \u001b[1;36m0.775\u001b[0m\n"
            ]
          },
          "metadata": {},
          "output_type": "display_data"
        },
        {
          "data": {
            "text/html": [
              "<pre style=\"white-space:pre;overflow-x:auto;line-height:normal;font-family:Menlo,'DejaVu Sans Mono',consolas,'Courier New',monospace\"> - Specialist_3 <span style=\"font-weight: bold\">(</span>TRMA_03<span style=\"font-weight: bold\">)</span> | fused score: <span style=\"color: #008080; text-decoration-color: #008080; font-weight: bold\">0.475</span>\n",
              "</pre>\n"
            ],
            "text/plain": [
              " - Specialist_3 \u001b[1m(\u001b[0mTRMA_03\u001b[1m)\u001b[0m | fused score: \u001b[1;36m0.475\u001b[0m\n"
            ]
          },
          "metadata": {},
          "output_type": "display_data"
        },
        {
          "data": {
            "text/html": [
              "<pre style=\"white-space:pre;overflow-x:auto;line-height:normal;font-family:Menlo,'DejaVu Sans Mono',consolas,'Courier New',monospace\">\n",
              "<span style=\"color: #008080; text-decoration-color: #008080\">Recommendation confidence:</span> <span style=\"color: #008080; text-decoration-color: #008080; font-weight: bold\">0.611</span>\n",
              "</pre>\n"
            ],
            "text/plain": [
              "\n",
              "\u001b[36mRecommendation confidence:\u001b[0m \u001b[1;36m0.611\u001b[0m\n"
            ]
          },
          "metadata": {},
          "output_type": "display_data"
        },
        {
          "data": {
            "text/html": [
              "<pre style=\"white-space:pre;overflow-x:auto;line-height:normal;font-family:Menlo,'DejaVu Sans Mono',consolas,'Courier New',monospace\">\n",
              "<span style=\"font-weight: bold\">Menu:</span>\n",
              "</pre>\n"
            ],
            "text/plain": [
              "\n",
              "\u001b[1mMenu:\u001b[0m\n"
            ]
          },
          "metadata": {},
          "output_type": "display_data"
        },
        {
          "data": {
            "text/html": [
              "<pre style=\"white-space:pre;overflow-x:auto;line-height:normal;font-family:Menlo,'DejaVu Sans Mono',consolas,'Courier New',monospace\"><span style=\"color: #008080; text-decoration-color: #008080; font-weight: bold\">1</span>. Load <span style=\"color: #008080; text-decoration-color: #008080; font-weight: bold\">10</span> fixed sample patients <span style=\"font-weight: bold\">(</span>demo<span style=\"font-weight: bold\">)</span>\n",
              "</pre>\n"
            ],
            "text/plain": [
              "\u001b[1;36m1\u001b[0m. Load \u001b[1;36m10\u001b[0m fixed sample patients \u001b[1m(\u001b[0mdemo\u001b[1m)\u001b[0m\n"
            ]
          },
          "metadata": {},
          "output_type": "display_data"
        },
        {
          "data": {
            "text/html": [
              "<pre style=\"white-space:pre;overflow-x:auto;line-height:normal;font-family:Menlo,'DejaVu Sans Mono',consolas,'Courier New',monospace\"><span style=\"color: #008080; text-decoration-color: #008080; font-weight: bold\">2</span>. Add one patient manually\n",
              "</pre>\n"
            ],
            "text/plain": [
              "\u001b[1;36m2\u001b[0m. Add one patient manually\n"
            ]
          },
          "metadata": {},
          "output_type": "display_data"
        },
        {
          "data": {
            "text/html": [
              "<pre style=\"white-space:pre;overflow-x:auto;line-height:normal;font-family:Menlo,'DejaVu Sans Mono',consolas,'Courier New',monospace\"><span style=\"color: #008080; text-decoration-color: #008080; font-weight: bold\">3</span>. Run triage <span style=\"font-weight: bold\">(</span>choose algorithm <span style=\"color: #800080; text-decoration-color: #800080\">/</span> ensemble<span style=\"font-weight: bold\">)</span>\n",
              "</pre>\n"
            ],
            "text/plain": [
              "\u001b[1;36m3\u001b[0m. Run triage \u001b[1m(\u001b[0mchoose algorithm \u001b[35m/\u001b[0m ensemble\u001b[1m)\u001b[0m\n"
            ]
          },
          "metadata": {},
          "output_type": "display_data"
        },
        {
          "data": {
            "text/html": [
              "<pre style=\"white-space:pre;overflow-x:auto;line-height:normal;font-family:Menlo,'DejaVu Sans Mono',consolas,'Courier New',monospace\"><span style=\"color: #008080; text-decoration-color: #008080; font-weight: bold\">4</span>. Show triage report <span style=\"font-weight: bold\">(</span>console<span style=\"font-weight: bold\">)</span>\n",
              "</pre>\n"
            ],
            "text/plain": [
              "\u001b[1;36m4\u001b[0m. Show triage report \u001b[1m(\u001b[0mconsole\u001b[1m)\u001b[0m\n"
            ]
          },
          "metadata": {},
          "output_type": "display_data"
        },
        {
          "data": {
            "text/html": [
              "<pre style=\"white-space:pre;overflow-x:auto;line-height:normal;font-family:Menlo,'DejaVu Sans Mono',consolas,'Courier New',monospace\"><span style=\"color: #008080; text-decoration-color: #008080; font-weight: bold\">5</span>. Route a patient to specialists <span style=\"font-weight: bold\">(</span>WASPAS + adaptive GNN + Similarity fusion<span style=\"font-weight: bold\">)</span>\n",
              "</pre>\n"
            ],
            "text/plain": [
              "\u001b[1;36m5\u001b[0m. Route a patient to specialists \u001b[1m(\u001b[0mWASPAS + adaptive GNN + Similarity fusion\u001b[1m)\u001b[0m\n"
            ]
          },
          "metadata": {},
          "output_type": "display_data"
        },
        {
          "data": {
            "text/html": [
              "<pre style=\"white-space:pre;overflow-x:auto;line-height:normal;font-family:Menlo,'DejaVu Sans Mono',consolas,'Courier New',monospace\"><span style=\"color: #008080; text-decoration-color: #008080; font-weight: bold\">6</span>. Visualize dashboard <span style=\"font-weight: bold\">(</span>Plotly<span style=\"font-weight: bold\">)</span>\n",
              "</pre>\n"
            ],
            "text/plain": [
              "\u001b[1;36m6\u001b[0m. Visualize dashboard \u001b[1m(\u001b[0mPlotly\u001b[1m)\u001b[0m\n"
            ]
          },
          "metadata": {},
          "output_type": "display_data"
        },
        {
          "data": {
            "text/html": [
              "<pre style=\"white-space:pre;overflow-x:auto;line-height:normal;font-family:Menlo,'DejaVu Sans Mono',consolas,'Courier New',monospace\"><span style=\"color: #008080; text-decoration-color: #008080; font-weight: bold\">7</span>. Export CSV of triage patient list\n",
              "</pre>\n"
            ],
            "text/plain": [
              "\u001b[1;36m7\u001b[0m. Export CSV of triage patient list\n"
            ]
          },
          "metadata": {},
          "output_type": "display_data"
        },
        {
          "data": {
            "text/html": [
              "<pre style=\"white-space:pre;overflow-x:auto;line-height:normal;font-family:Menlo,'DejaVu Sans Mono',consolas,'Courier New',monospace\"><span style=\"color: #008080; text-decoration-color: #008080; font-weight: bold\">8</span>. Export event log <span style=\"font-weight: bold\">(</span>JSON<span style=\"font-weight: bold\">)</span>\n",
              "</pre>\n"
            ],
            "text/plain": [
              "\u001b[1;36m8\u001b[0m. Export event log \u001b[1m(\u001b[0mJSON\u001b[1m)\u001b[0m\n"
            ]
          },
          "metadata": {},
          "output_type": "display_data"
        },
        {
          "data": {
            "text/html": [
              "<pre style=\"white-space:pre;overflow-x:auto;line-height:normal;font-family:Menlo,'DejaVu Sans Mono',consolas,'Courier New',monospace\"><span style=\"color: #008080; text-decoration-color: #008080; font-weight: bold\">9</span>. Simulation mode <span style=\"font-weight: bold\">(</span>stress test<span style=\"font-weight: bold\">)</span>\n",
              "</pre>\n"
            ],
            "text/plain": [
              "\u001b[1;36m9\u001b[0m. Simulation mode \u001b[1m(\u001b[0mstress test\u001b[1m)\u001b[0m\n"
            ]
          },
          "metadata": {},
          "output_type": "display_data"
        },
        {
          "data": {
            "text/html": [
              "<pre style=\"white-space:pre;overflow-x:auto;line-height:normal;font-family:Menlo,'DejaVu Sans Mono',consolas,'Courier New',monospace\"><span style=\"color: #008080; text-decoration-color: #008080; font-weight: bold\">10</span>. Clear all patients\n",
              "</pre>\n"
            ],
            "text/plain": [
              "\u001b[1;36m10\u001b[0m. Clear all patients\n"
            ]
          },
          "metadata": {},
          "output_type": "display_data"
        },
        {
          "data": {
            "text/html": [
              "<pre style=\"white-space:pre;overflow-x:auto;line-height:normal;font-family:Menlo,'DejaVu Sans Mono',consolas,'Courier New',monospace\"><span style=\"color: #008080; text-decoration-color: #008080; font-weight: bold\">11</span>. Exit\n",
              "</pre>\n"
            ],
            "text/plain": [
              "\u001b[1;36m11\u001b[0m. Exit\n"
            ]
          },
          "metadata": {},
          "output_type": "display_data"
        },
        {
          "data": {
            "text/html": [
              "<pre style=\"white-space:pre;overflow-x:auto;line-height:normal;font-family:Menlo,'DejaVu Sans Mono',consolas,'Courier New',monospace\">Choose (1-11) <span style=\"color: #008080; text-decoration-color: #008080; font-weight: bold\">(1)</span>: </pre>\n"
            ],
            "text/plain": [
              "Choose (1-11) \u001b[1;36m(1)\u001b[0m: "
            ]
          },
          "metadata": {},
          "output_type": "display_data"
        },
        {
          "data": {
            "text/html": [
              "<pre style=\"white-space:pre;overflow-x:auto;line-height:normal;font-family:Menlo,'DejaVu Sans Mono',consolas,'Courier New',monospace\">Save visuals to disk? <span style=\"color: #800080; text-decoration-color: #800080; font-weight: bold\">[y/n]</span> <span style=\"color: #008080; text-decoration-color: #008080; font-weight: bold\">(n)</span>: </pre>\n"
            ],
            "text/plain": [
              "Save visuals to disk? \u001b[1;35m[y/n]\u001b[0m \u001b[1;36m(n)\u001b[0m: "
            ]
          },
          "metadata": {},
          "output_type": "display_data"
        },
        {
          "data": {
            "text/html": [
              "<html>\n",
              "<head><meta charset=\"utf-8\" /></head>\n",
              "<body>\n",
              "    <div>            <script src=\"https://cdnjs.cloudflare.com/ajax/libs/mathjax/2.7.5/MathJax.js?config=TeX-AMS-MML_SVG\"></script><script type=\"text/javascript\">if (window.MathJax && window.MathJax.Hub && window.MathJax.Hub.Config) {window.MathJax.Hub.Config({SVG: {font: \"STIX-Web\"}});}</script>                <script type=\"text/javascript\">window.PlotlyConfig = {MathJaxConfig: 'local'};</script>\n",
              "        <script charset=\"utf-8\" src=\"https://cdn.plot.ly/plotly-2.35.2.min.js\"></script>                <div id=\"f4582052-f3a7-4e8f-aac6-57fb6ff4dd73\" class=\"plotly-graph-div\" style=\"height:525px; width:100%;\"></div>            <script type=\"text/javascript\">                                    window.PLOTLYENV=window.PLOTLYENV || {};                                    if (document.getElementById(\"f4582052-f3a7-4e8f-aac6-57fb6ff4dd73\")) {                    Plotly.newPlot(                        \"f4582052-f3a7-4e8f-aac6-57fb6ff4dd73\",                        [{\"alignmentgroup\":\"True\",\"hovertemplate\":\"priority=Critical\\u003cbr\\u003ePatient ID=%{x}\\u003cbr\\u003eEnsemble Score=%{y}\\u003cextra\\u003e\\u003c\\u002fextra\\u003e\",\"legendgroup\":\"Critical\",\"marker\":{\"color\":\"red\",\"pattern\":{\"shape\":\"\"}},\"name\":\"Critical\",\"offsetgroup\":\"Critical\",\"orientation\":\"v\",\"showlegend\":true,\"textposition\":\"auto\",\"x\":[\"P003\",\"P010\",\"P002\",\"P005\",\"P001\"],\"xaxis\":\"x\",\"y\":[0.9999999999989186,0.9635222820102621,0.8696532795529955,0.8478262221092199,0.8109167840507128],\"yaxis\":\"y\",\"type\":\"bar\"},{\"alignmentgroup\":\"True\",\"hovertemplate\":\"priority=High\\u003cbr\\u003ePatient ID=%{x}\\u003cbr\\u003eEnsemble Score=%{y}\\u003cextra\\u003e\\u003c\\u002fextra\\u003e\",\"legendgroup\":\"High\",\"marker\":{\"color\":\"orange\",\"pattern\":{\"shape\":\"\"}},\"name\":\"High\",\"offsetgroup\":\"High\",\"orientation\":\"v\",\"showlegend\":true,\"textposition\":\"auto\",\"x\":[\"P006\",\"P007\"],\"xaxis\":\"x\",\"y\":[0.7682677026572776,0.6128289245084069],\"yaxis\":\"y\",\"type\":\"bar\"},{\"alignmentgroup\":\"True\",\"hovertemplate\":\"priority=Medium\\u003cbr\\u003ePatient ID=%{x}\\u003cbr\\u003eEnsemble Score=%{y}\\u003cextra\\u003e\\u003c\\u002fextra\\u003e\",\"legendgroup\":\"Medium\",\"marker\":{\"color\":\"yellow\",\"pattern\":{\"shape\":\"\"}},\"name\":\"Medium\",\"offsetgroup\":\"Medium\",\"orientation\":\"v\",\"showlegend\":true,\"textposition\":\"auto\",\"x\":[\"P008\"],\"xaxis\":\"x\",\"y\":[0.4650693748681038],\"yaxis\":\"y\",\"type\":\"bar\"},{\"alignmentgroup\":\"True\",\"hovertemplate\":\"priority=Low\\u003cbr\\u003ePatient ID=%{x}\\u003cbr\\u003eEnsemble Score=%{y}\\u003cextra\\u003e\\u003c\\u002fextra\\u003e\",\"legendgroup\":\"Low\",\"marker\":{\"color\":\"green\",\"pattern\":{\"shape\":\"\"}},\"name\":\"Low\",\"offsetgroup\":\"Low\",\"orientation\":\"v\",\"showlegend\":true,\"textposition\":\"auto\",\"x\":[\"P009\",\"P004\"],\"xaxis\":\"x\",\"y\":[0.23596918219336438,0.0],\"yaxis\":\"y\",\"type\":\"bar\"}],                        {\"template\":{\"data\":{\"histogram2dcontour\":[{\"type\":\"histogram2dcontour\",\"colorbar\":{\"outlinewidth\":0,\"ticks\":\"\"},\"colorscale\":[[0.0,\"#0d0887\"],[0.1111111111111111,\"#46039f\"],[0.2222222222222222,\"#7201a8\"],[0.3333333333333333,\"#9c179e\"],[0.4444444444444444,\"#bd3786\"],[0.5555555555555556,\"#d8576b\"],[0.6666666666666666,\"#ed7953\"],[0.7777777777777778,\"#fb9f3a\"],[0.8888888888888888,\"#fdca26\"],[1.0,\"#f0f921\"]]}],\"choropleth\":[{\"type\":\"choropleth\",\"colorbar\":{\"outlinewidth\":0,\"ticks\":\"\"}}],\"histogram2d\":[{\"type\":\"histogram2d\",\"colorbar\":{\"outlinewidth\":0,\"ticks\":\"\"},\"colorscale\":[[0.0,\"#0d0887\"],[0.1111111111111111,\"#46039f\"],[0.2222222222222222,\"#7201a8\"],[0.3333333333333333,\"#9c179e\"],[0.4444444444444444,\"#bd3786\"],[0.5555555555555556,\"#d8576b\"],[0.6666666666666666,\"#ed7953\"],[0.7777777777777778,\"#fb9f3a\"],[0.8888888888888888,\"#fdca26\"],[1.0,\"#f0f921\"]]}],\"heatmap\":[{\"type\":\"heatmap\",\"colorbar\":{\"outlinewidth\":0,\"ticks\":\"\"},\"colorscale\":[[0.0,\"#0d0887\"],[0.1111111111111111,\"#46039f\"],[0.2222222222222222,\"#7201a8\"],[0.3333333333333333,\"#9c179e\"],[0.4444444444444444,\"#bd3786\"],[0.5555555555555556,\"#d8576b\"],[0.6666666666666666,\"#ed7953\"],[0.7777777777777778,\"#fb9f3a\"],[0.8888888888888888,\"#fdca26\"],[1.0,\"#f0f921\"]]}],\"heatmapgl\":[{\"type\":\"heatmapgl\",\"colorbar\":{\"outlinewidth\":0,\"ticks\":\"\"},\"colorscale\":[[0.0,\"#0d0887\"],[0.1111111111111111,\"#46039f\"],[0.2222222222222222,\"#7201a8\"],[0.3333333333333333,\"#9c179e\"],[0.4444444444444444,\"#bd3786\"],[0.5555555555555556,\"#d8576b\"],[0.6666666666666666,\"#ed7953\"],[0.7777777777777778,\"#fb9f3a\"],[0.8888888888888888,\"#fdca26\"],[1.0,\"#f0f921\"]]}],\"contourcarpet\":[{\"type\":\"contourcarpet\",\"colorbar\":{\"outlinewidth\":0,\"ticks\":\"\"}}],\"contour\":[{\"type\":\"contour\",\"colorbar\":{\"outlinewidth\":0,\"ticks\":\"\"},\"colorscale\":[[0.0,\"#0d0887\"],[0.1111111111111111,\"#46039f\"],[0.2222222222222222,\"#7201a8\"],[0.3333333333333333,\"#9c179e\"],[0.4444444444444444,\"#bd3786\"],[0.5555555555555556,\"#d8576b\"],[0.6666666666666666,\"#ed7953\"],[0.7777777777777778,\"#fb9f3a\"],[0.8888888888888888,\"#fdca26\"],[1.0,\"#f0f921\"]]}],\"surface\":[{\"type\":\"surface\",\"colorbar\":{\"outlinewidth\":0,\"ticks\":\"\"},\"colorscale\":[[0.0,\"#0d0887\"],[0.1111111111111111,\"#46039f\"],[0.2222222222222222,\"#7201a8\"],[0.3333333333333333,\"#9c179e\"],[0.4444444444444444,\"#bd3786\"],[0.5555555555555556,\"#d8576b\"],[0.6666666666666666,\"#ed7953\"],[0.7777777777777778,\"#fb9f3a\"],[0.8888888888888888,\"#fdca26\"],[1.0,\"#f0f921\"]]}],\"mesh3d\":[{\"type\":\"mesh3d\",\"colorbar\":{\"outlinewidth\":0,\"ticks\":\"\"}}],\"scatter\":[{\"fillpattern\":{\"fillmode\":\"overlay\",\"size\":10,\"solidity\":0.2},\"type\":\"scatter\"}],\"parcoords\":[{\"type\":\"parcoords\",\"line\":{\"colorbar\":{\"outlinewidth\":0,\"ticks\":\"\"}}}],\"scatterpolargl\":[{\"type\":\"scatterpolargl\",\"marker\":{\"colorbar\":{\"outlinewidth\":0,\"ticks\":\"\"}}}],\"bar\":[{\"error_x\":{\"color\":\"#2a3f5f\"},\"error_y\":{\"color\":\"#2a3f5f\"},\"marker\":{\"line\":{\"color\":\"#E5ECF6\",\"width\":0.5},\"pattern\":{\"fillmode\":\"overlay\",\"size\":10,\"solidity\":0.2}},\"type\":\"bar\"}],\"scattergeo\":[{\"type\":\"scattergeo\",\"marker\":{\"colorbar\":{\"outlinewidth\":0,\"ticks\":\"\"}}}],\"scatterpolar\":[{\"type\":\"scatterpolar\",\"marker\":{\"colorbar\":{\"outlinewidth\":0,\"ticks\":\"\"}}}],\"histogram\":[{\"marker\":{\"pattern\":{\"fillmode\":\"overlay\",\"size\":10,\"solidity\":0.2}},\"type\":\"histogram\"}],\"scattergl\":[{\"type\":\"scattergl\",\"marker\":{\"colorbar\":{\"outlinewidth\":0,\"ticks\":\"\"}}}],\"scatter3d\":[{\"type\":\"scatter3d\",\"line\":{\"colorbar\":{\"outlinewidth\":0,\"ticks\":\"\"}},\"marker\":{\"colorbar\":{\"outlinewidth\":0,\"ticks\":\"\"}}}],\"scattermapbox\":[{\"type\":\"scattermapbox\",\"marker\":{\"colorbar\":{\"outlinewidth\":0,\"ticks\":\"\"}}}],\"scatterternary\":[{\"type\":\"scatterternary\",\"marker\":{\"colorbar\":{\"outlinewidth\":0,\"ticks\":\"\"}}}],\"scattercarpet\":[{\"type\":\"scattercarpet\",\"marker\":{\"colorbar\":{\"outlinewidth\":0,\"ticks\":\"\"}}}],\"carpet\":[{\"aaxis\":{\"endlinecolor\":\"#2a3f5f\",\"gridcolor\":\"white\",\"linecolor\":\"white\",\"minorgridcolor\":\"white\",\"startlinecolor\":\"#2a3f5f\"},\"baxis\":{\"endlinecolor\":\"#2a3f5f\",\"gridcolor\":\"white\",\"linecolor\":\"white\",\"minorgridcolor\":\"white\",\"startlinecolor\":\"#2a3f5f\"},\"type\":\"carpet\"}],\"table\":[{\"cells\":{\"fill\":{\"color\":\"#EBF0F8\"},\"line\":{\"color\":\"white\"}},\"header\":{\"fill\":{\"color\":\"#C8D4E3\"},\"line\":{\"color\":\"white\"}},\"type\":\"table\"}],\"barpolar\":[{\"marker\":{\"line\":{\"color\":\"#E5ECF6\",\"width\":0.5},\"pattern\":{\"fillmode\":\"overlay\",\"size\":10,\"solidity\":0.2}},\"type\":\"barpolar\"}],\"pie\":[{\"automargin\":true,\"type\":\"pie\"}]},\"layout\":{\"autotypenumbers\":\"strict\",\"colorway\":[\"#636efa\",\"#EF553B\",\"#00cc96\",\"#ab63fa\",\"#FFA15A\",\"#19d3f3\",\"#FF6692\",\"#B6E880\",\"#FF97FF\",\"#FECB52\"],\"font\":{\"color\":\"#2a3f5f\"},\"hovermode\":\"closest\",\"hoverlabel\":{\"align\":\"left\"},\"paper_bgcolor\":\"white\",\"plot_bgcolor\":\"#E5ECF6\",\"polar\":{\"bgcolor\":\"#E5ECF6\",\"angularaxis\":{\"gridcolor\":\"white\",\"linecolor\":\"white\",\"ticks\":\"\"},\"radialaxis\":{\"gridcolor\":\"white\",\"linecolor\":\"white\",\"ticks\":\"\"}},\"ternary\":{\"bgcolor\":\"#E5ECF6\",\"aaxis\":{\"gridcolor\":\"white\",\"linecolor\":\"white\",\"ticks\":\"\"},\"baxis\":{\"gridcolor\":\"white\",\"linecolor\":\"white\",\"ticks\":\"\"},\"caxis\":{\"gridcolor\":\"white\",\"linecolor\":\"white\",\"ticks\":\"\"}},\"coloraxis\":{\"colorbar\":{\"outlinewidth\":0,\"ticks\":\"\"}},\"colorscale\":{\"sequential\":[[0.0,\"#0d0887\"],[0.1111111111111111,\"#46039f\"],[0.2222222222222222,\"#7201a8\"],[0.3333333333333333,\"#9c179e\"],[0.4444444444444444,\"#bd3786\"],[0.5555555555555556,\"#d8576b\"],[0.6666666666666666,\"#ed7953\"],[0.7777777777777778,\"#fb9f3a\"],[0.8888888888888888,\"#fdca26\"],[1.0,\"#f0f921\"]],\"sequentialminus\":[[0.0,\"#0d0887\"],[0.1111111111111111,\"#46039f\"],[0.2222222222222222,\"#7201a8\"],[0.3333333333333333,\"#9c179e\"],[0.4444444444444444,\"#bd3786\"],[0.5555555555555556,\"#d8576b\"],[0.6666666666666666,\"#ed7953\"],[0.7777777777777778,\"#fb9f3a\"],[0.8888888888888888,\"#fdca26\"],[1.0,\"#f0f921\"]],\"diverging\":[[0,\"#8e0152\"],[0.1,\"#c51b7d\"],[0.2,\"#de77ae\"],[0.3,\"#f1b6da\"],[0.4,\"#fde0ef\"],[0.5,\"#f7f7f7\"],[0.6,\"#e6f5d0\"],[0.7,\"#b8e186\"],[0.8,\"#7fbc41\"],[0.9,\"#4d9221\"],[1,\"#276419\"]]},\"xaxis\":{\"gridcolor\":\"white\",\"linecolor\":\"white\",\"ticks\":\"\",\"title\":{\"standoff\":15},\"zerolinecolor\":\"white\",\"automargin\":true,\"zerolinewidth\":2},\"yaxis\":{\"gridcolor\":\"white\",\"linecolor\":\"white\",\"ticks\":\"\",\"title\":{\"standoff\":15},\"zerolinecolor\":\"white\",\"automargin\":true,\"zerolinewidth\":2},\"scene\":{\"xaxis\":{\"backgroundcolor\":\"#E5ECF6\",\"gridcolor\":\"white\",\"linecolor\":\"white\",\"showbackground\":true,\"ticks\":\"\",\"zerolinecolor\":\"white\",\"gridwidth\":2},\"yaxis\":{\"backgroundcolor\":\"#E5ECF6\",\"gridcolor\":\"white\",\"linecolor\":\"white\",\"showbackground\":true,\"ticks\":\"\",\"zerolinecolor\":\"white\",\"gridwidth\":2},\"zaxis\":{\"backgroundcolor\":\"#E5ECF6\",\"gridcolor\":\"white\",\"linecolor\":\"white\",\"showbackground\":true,\"ticks\":\"\",\"zerolinecolor\":\"white\",\"gridwidth\":2}},\"shapedefaults\":{\"line\":{\"color\":\"#2a3f5f\"}},\"annotationdefaults\":{\"arrowcolor\":\"#2a3f5f\",\"arrowhead\":0,\"arrowwidth\":1},\"geo\":{\"bgcolor\":\"white\",\"landcolor\":\"#E5ECF6\",\"subunitcolor\":\"white\",\"showland\":true,\"showlakes\":true,\"lakecolor\":\"white\"},\"title\":{\"x\":0.05},\"mapbox\":{\"style\":\"light\"}}},\"xaxis\":{\"anchor\":\"y\",\"domain\":[0.0,1.0],\"title\":{\"text\":\"Patient ID\"}},\"yaxis\":{\"anchor\":\"x\",\"domain\":[0.0,1.0],\"title\":{\"text\":\"Ensemble Score\"}},\"legend\":{\"title\":{\"text\":\"priority\"},\"tracegroupgap\":0},\"title\":{\"text\":\"Ensemble Emergency Scores per Patient\"},\"barmode\":\"relative\"},                        {\"responsive\": true}                    ).then(function(){\n",
              "                            \n",
              "var gd = document.getElementById('f4582052-f3a7-4e8f-aac6-57fb6ff4dd73');\n",
              "var x = new MutationObserver(function (mutations, observer) {{\n",
              "        var display = window.getComputedStyle(gd).display;\n",
              "        if (!display || display === 'none') {{\n",
              "            console.log([gd, 'removed!']);\n",
              "            Plotly.purge(gd);\n",
              "            observer.disconnect();\n",
              "        }}\n",
              "}});\n",
              "\n",
              "// Listen for the removal of the full notebook cells\n",
              "var notebookContainer = gd.closest('#notebook-container');\n",
              "if (notebookContainer) {{\n",
              "    x.observe(notebookContainer, {childList: true});\n",
              "}}\n",
              "\n",
              "// Listen for the clearing of the current output cell\n",
              "var outputEl = gd.closest('.output');\n",
              "if (outputEl) {{\n",
              "    x.observe(outputEl, {childList: true});\n",
              "}}\n",
              "\n",
              "                        })                };                            </script>        </div>\n",
              "</body>\n",
              "</html>"
            ]
          },
          "metadata": {},
          "output_type": "display_data"
        },
        {
          "data": {
            "text/html": [
              "<html>\n",
              "<head><meta charset=\"utf-8\" /></head>\n",
              "<body>\n",
              "    <div>            <script src=\"https://cdnjs.cloudflare.com/ajax/libs/mathjax/2.7.5/MathJax.js?config=TeX-AMS-MML_SVG\"></script><script type=\"text/javascript\">if (window.MathJax && window.MathJax.Hub && window.MathJax.Hub.Config) {window.MathJax.Hub.Config({SVG: {font: \"STIX-Web\"}});}</script>                <script type=\"text/javascript\">window.PlotlyConfig = {MathJaxConfig: 'local'};</script>\n",
              "        <script charset=\"utf-8\" src=\"https://cdn.plot.ly/plotly-2.35.2.min.js\"></script>                <div id=\"0ad64821-4526-48ce-af26-85159bd68b62\" class=\"plotly-graph-div\" style=\"height:525px; width:100%;\"></div>            <script type=\"text/javascript\">                                    window.PLOTLYENV=window.PLOTLYENV || {};                                    if (document.getElementById(\"0ad64821-4526-48ce-af26-85159bd68b62\")) {                    Plotly.newPlot(                        \"0ad64821-4526-48ce-af26-85159bd68b62\",                        [{\"customdata\":[[\"P003\",\"Displaced Hip Fracture\",0.9999999999989186],[\"P010\",\"Chronic Heart Failure\",0.9635222820102621],[\"P002\",\"Severe Asthma Exacerbation\",0.8696532795529955],[\"P005\",\"Acute Ischemic Stroke\",0.8478262221092199],[\"P001\",\"Acute Myocardial Infarction\",0.8109167840507128]],\"hovertemplate\":\"priority=Critical\\u003cbr\\u003ePC1=%{x}\\u003cbr\\u003ePC2=%{y}\\u003cbr\\u003eid=%{customdata[0]}\\u003cbr\\u003econdition_desc=%{customdata[1]}\\u003cbr\\u003eensemble_score=%{customdata[2]}\\u003cextra\\u003e\\u003c\\u002fextra\\u003e\",\"legendgroup\":\"Critical\",\"marker\":{\"color\":\"#636efa\",\"symbol\":\"circle\"},\"mode\":\"markers\",\"name\":\"Critical\",\"orientation\":\"v\",\"showlegend\":true,\"x\":[1.9578372425122528,1.7656369433487957,1.1210790099266854,1.715077120582498,1.2928966830936002],\"xaxis\":\"x\",\"y\":[1.2417071597931075,1.3198015585323495,0.83204322736903,-1.1188600270018882,-1.031225026181373],\"yaxis\":\"y\",\"type\":\"scatter\"},{\"customdata\":[[\"P006\",\"Severe Pneumonia\",0.7682677026572776],[\"P007\",\"Appendicitis\",0.6128289245084069]],\"hovertemplate\":\"priority=High\\u003cbr\\u003ePC1=%{x}\\u003cbr\\u003ePC2=%{y}\\u003cbr\\u003eid=%{customdata[0]}\\u003cbr\\u003econdition_desc=%{customdata[1]}\\u003cbr\\u003eensemble_score=%{customdata[2]}\\u003cextra\\u003e\\u003c\\u002fextra\\u003e\",\"legendgroup\":\"High\",\"marker\":{\"color\":\"#EF553B\",\"symbol\":\"circle\"},\"mode\":\"markers\",\"name\":\"High\",\"orientation\":\"v\",\"showlegend\":true,\"x\":[0.8627282489420275,-0.2989785836235557],\"xaxis\":\"x\",\"y\":[-0.9125861272898904,-0.5954188830108841],\"yaxis\":\"y\",\"type\":\"scatter\"},{\"customdata\":[[\"P008\",\"Fractured Arm\",0.4650693748681038]],\"hovertemplate\":\"priority=Medium\\u003cbr\\u003ePC1=%{x}\\u003cbr\\u003ePC2=%{y}\\u003cbr\\u003eid=%{customdata[0]}\\u003cbr\\u003econdition_desc=%{customdata[1]}\\u003cbr\\u003eensemble_score=%{customdata[2]}\\u003cextra\\u003e\\u003c\\u002fextra\\u003e\",\"legendgroup\":\"Medium\",\"marker\":{\"color\":\"#00cc96\",\"symbol\":\"circle\"},\"mode\":\"markers\",\"name\":\"Medium\",\"orientation\":\"v\",\"showlegend\":true,\"x\":[-1.2881139218158377],\"xaxis\":\"x\",\"y\":[-0.3193916328324769],\"yaxis\":\"y\",\"type\":\"scatter\"},{\"customdata\":[[\"P009\",\"Migraine Attack\",0.23596918219336438],[\"P004\",\"Deep Laceration\",0.0]],\"hovertemplate\":\"priority=Low\\u003cbr\\u003ePC1=%{x}\\u003cbr\\u003ePC2=%{y}\\u003cbr\\u003eid=%{customdata[0]}\\u003cbr\\u003econdition_desc=%{customdata[1]}\\u003cbr\\u003eensemble_score=%{customdata[2]}\\u003cextra\\u003e\\u003c\\u002fextra\\u003e\",\"legendgroup\":\"Low\",\"marker\":{\"color\":\"#ab63fa\",\"symbol\":\"circle\"},\"mode\":\"markers\",\"name\":\"Low\",\"orientation\":\"v\",\"showlegend\":true,\"x\":[-3.058949822837188,-4.069212920129277],\"xaxis\":\"x\",\"y\":[0.13073778005195072,0.4531919705700739],\"yaxis\":\"y\",\"type\":\"scatter\"}],                        {\"template\":{\"data\":{\"histogram2dcontour\":[{\"type\":\"histogram2dcontour\",\"colorbar\":{\"outlinewidth\":0,\"ticks\":\"\"},\"colorscale\":[[0.0,\"#0d0887\"],[0.1111111111111111,\"#46039f\"],[0.2222222222222222,\"#7201a8\"],[0.3333333333333333,\"#9c179e\"],[0.4444444444444444,\"#bd3786\"],[0.5555555555555556,\"#d8576b\"],[0.6666666666666666,\"#ed7953\"],[0.7777777777777778,\"#fb9f3a\"],[0.8888888888888888,\"#fdca26\"],[1.0,\"#f0f921\"]]}],\"choropleth\":[{\"type\":\"choropleth\",\"colorbar\":{\"outlinewidth\":0,\"ticks\":\"\"}}],\"histogram2d\":[{\"type\":\"histogram2d\",\"colorbar\":{\"outlinewidth\":0,\"ticks\":\"\"},\"colorscale\":[[0.0,\"#0d0887\"],[0.1111111111111111,\"#46039f\"],[0.2222222222222222,\"#7201a8\"],[0.3333333333333333,\"#9c179e\"],[0.4444444444444444,\"#bd3786\"],[0.5555555555555556,\"#d8576b\"],[0.6666666666666666,\"#ed7953\"],[0.7777777777777778,\"#fb9f3a\"],[0.8888888888888888,\"#fdca26\"],[1.0,\"#f0f921\"]]}],\"heatmap\":[{\"type\":\"heatmap\",\"colorbar\":{\"outlinewidth\":0,\"ticks\":\"\"},\"colorscale\":[[0.0,\"#0d0887\"],[0.1111111111111111,\"#46039f\"],[0.2222222222222222,\"#7201a8\"],[0.3333333333333333,\"#9c179e\"],[0.4444444444444444,\"#bd3786\"],[0.5555555555555556,\"#d8576b\"],[0.6666666666666666,\"#ed7953\"],[0.7777777777777778,\"#fb9f3a\"],[0.8888888888888888,\"#fdca26\"],[1.0,\"#f0f921\"]]}],\"heatmapgl\":[{\"type\":\"heatmapgl\",\"colorbar\":{\"outlinewidth\":0,\"ticks\":\"\"},\"colorscale\":[[0.0,\"#0d0887\"],[0.1111111111111111,\"#46039f\"],[0.2222222222222222,\"#7201a8\"],[0.3333333333333333,\"#9c179e\"],[0.4444444444444444,\"#bd3786\"],[0.5555555555555556,\"#d8576b\"],[0.6666666666666666,\"#ed7953\"],[0.7777777777777778,\"#fb9f3a\"],[0.8888888888888888,\"#fdca26\"],[1.0,\"#f0f921\"]]}],\"contourcarpet\":[{\"type\":\"contourcarpet\",\"colorbar\":{\"outlinewidth\":0,\"ticks\":\"\"}}],\"contour\":[{\"type\":\"contour\",\"colorbar\":{\"outlinewidth\":0,\"ticks\":\"\"},\"colorscale\":[[0.0,\"#0d0887\"],[0.1111111111111111,\"#46039f\"],[0.2222222222222222,\"#7201a8\"],[0.3333333333333333,\"#9c179e\"],[0.4444444444444444,\"#bd3786\"],[0.5555555555555556,\"#d8576b\"],[0.6666666666666666,\"#ed7953\"],[0.7777777777777778,\"#fb9f3a\"],[0.8888888888888888,\"#fdca26\"],[1.0,\"#f0f921\"]]}],\"surface\":[{\"type\":\"surface\",\"colorbar\":{\"outlinewidth\":0,\"ticks\":\"\"},\"colorscale\":[[0.0,\"#0d0887\"],[0.1111111111111111,\"#46039f\"],[0.2222222222222222,\"#7201a8\"],[0.3333333333333333,\"#9c179e\"],[0.4444444444444444,\"#bd3786\"],[0.5555555555555556,\"#d8576b\"],[0.6666666666666666,\"#ed7953\"],[0.7777777777777778,\"#fb9f3a\"],[0.8888888888888888,\"#fdca26\"],[1.0,\"#f0f921\"]]}],\"mesh3d\":[{\"type\":\"mesh3d\",\"colorbar\":{\"outlinewidth\":0,\"ticks\":\"\"}}],\"scatter\":[{\"fillpattern\":{\"fillmode\":\"overlay\",\"size\":10,\"solidity\":0.2},\"type\":\"scatter\"}],\"parcoords\":[{\"type\":\"parcoords\",\"line\":{\"colorbar\":{\"outlinewidth\":0,\"ticks\":\"\"}}}],\"scatterpolargl\":[{\"type\":\"scatterpolargl\",\"marker\":{\"colorbar\":{\"outlinewidth\":0,\"ticks\":\"\"}}}],\"bar\":[{\"error_x\":{\"color\":\"#2a3f5f\"},\"error_y\":{\"color\":\"#2a3f5f\"},\"marker\":{\"line\":{\"color\":\"#E5ECF6\",\"width\":0.5},\"pattern\":{\"fillmode\":\"overlay\",\"size\":10,\"solidity\":0.2}},\"type\":\"bar\"}],\"scattergeo\":[{\"type\":\"scattergeo\",\"marker\":{\"colorbar\":{\"outlinewidth\":0,\"ticks\":\"\"}}}],\"scatterpolar\":[{\"type\":\"scatterpolar\",\"marker\":{\"colorbar\":{\"outlinewidth\":0,\"ticks\":\"\"}}}],\"histogram\":[{\"marker\":{\"pattern\":{\"fillmode\":\"overlay\",\"size\":10,\"solidity\":0.2}},\"type\":\"histogram\"}],\"scattergl\":[{\"type\":\"scattergl\",\"marker\":{\"colorbar\":{\"outlinewidth\":0,\"ticks\":\"\"}}}],\"scatter3d\":[{\"type\":\"scatter3d\",\"line\":{\"colorbar\":{\"outlinewidth\":0,\"ticks\":\"\"}},\"marker\":{\"colorbar\":{\"outlinewidth\":0,\"ticks\":\"\"}}}],\"scattermapbox\":[{\"type\":\"scattermapbox\",\"marker\":{\"colorbar\":{\"outlinewidth\":0,\"ticks\":\"\"}}}],\"scatterternary\":[{\"type\":\"scatterternary\",\"marker\":{\"colorbar\":{\"outlinewidth\":0,\"ticks\":\"\"}}}],\"scattercarpet\":[{\"type\":\"scattercarpet\",\"marker\":{\"colorbar\":{\"outlinewidth\":0,\"ticks\":\"\"}}}],\"carpet\":[{\"aaxis\":{\"endlinecolor\":\"#2a3f5f\",\"gridcolor\":\"white\",\"linecolor\":\"white\",\"minorgridcolor\":\"white\",\"startlinecolor\":\"#2a3f5f\"},\"baxis\":{\"endlinecolor\":\"#2a3f5f\",\"gridcolor\":\"white\",\"linecolor\":\"white\",\"minorgridcolor\":\"white\",\"startlinecolor\":\"#2a3f5f\"},\"type\":\"carpet\"}],\"table\":[{\"cells\":{\"fill\":{\"color\":\"#EBF0F8\"},\"line\":{\"color\":\"white\"}},\"header\":{\"fill\":{\"color\":\"#C8D4E3\"},\"line\":{\"color\":\"white\"}},\"type\":\"table\"}],\"barpolar\":[{\"marker\":{\"line\":{\"color\":\"#E5ECF6\",\"width\":0.5},\"pattern\":{\"fillmode\":\"overlay\",\"size\":10,\"solidity\":0.2}},\"type\":\"barpolar\"}],\"pie\":[{\"automargin\":true,\"type\":\"pie\"}]},\"layout\":{\"autotypenumbers\":\"strict\",\"colorway\":[\"#636efa\",\"#EF553B\",\"#00cc96\",\"#ab63fa\",\"#FFA15A\",\"#19d3f3\",\"#FF6692\",\"#B6E880\",\"#FF97FF\",\"#FECB52\"],\"font\":{\"color\":\"#2a3f5f\"},\"hovermode\":\"closest\",\"hoverlabel\":{\"align\":\"left\"},\"paper_bgcolor\":\"white\",\"plot_bgcolor\":\"#E5ECF6\",\"polar\":{\"bgcolor\":\"#E5ECF6\",\"angularaxis\":{\"gridcolor\":\"white\",\"linecolor\":\"white\",\"ticks\":\"\"},\"radialaxis\":{\"gridcolor\":\"white\",\"linecolor\":\"white\",\"ticks\":\"\"}},\"ternary\":{\"bgcolor\":\"#E5ECF6\",\"aaxis\":{\"gridcolor\":\"white\",\"linecolor\":\"white\",\"ticks\":\"\"},\"baxis\":{\"gridcolor\":\"white\",\"linecolor\":\"white\",\"ticks\":\"\"},\"caxis\":{\"gridcolor\":\"white\",\"linecolor\":\"white\",\"ticks\":\"\"}},\"coloraxis\":{\"colorbar\":{\"outlinewidth\":0,\"ticks\":\"\"}},\"colorscale\":{\"sequential\":[[0.0,\"#0d0887\"],[0.1111111111111111,\"#46039f\"],[0.2222222222222222,\"#7201a8\"],[0.3333333333333333,\"#9c179e\"],[0.4444444444444444,\"#bd3786\"],[0.5555555555555556,\"#d8576b\"],[0.6666666666666666,\"#ed7953\"],[0.7777777777777778,\"#fb9f3a\"],[0.8888888888888888,\"#fdca26\"],[1.0,\"#f0f921\"]],\"sequentialminus\":[[0.0,\"#0d0887\"],[0.1111111111111111,\"#46039f\"],[0.2222222222222222,\"#7201a8\"],[0.3333333333333333,\"#9c179e\"],[0.4444444444444444,\"#bd3786\"],[0.5555555555555556,\"#d8576b\"],[0.6666666666666666,\"#ed7953\"],[0.7777777777777778,\"#fb9f3a\"],[0.8888888888888888,\"#fdca26\"],[1.0,\"#f0f921\"]],\"diverging\":[[0,\"#8e0152\"],[0.1,\"#c51b7d\"],[0.2,\"#de77ae\"],[0.3,\"#f1b6da\"],[0.4,\"#fde0ef\"],[0.5,\"#f7f7f7\"],[0.6,\"#e6f5d0\"],[0.7,\"#b8e186\"],[0.8,\"#7fbc41\"],[0.9,\"#4d9221\"],[1,\"#276419\"]]},\"xaxis\":{\"gridcolor\":\"white\",\"linecolor\":\"white\",\"ticks\":\"\",\"title\":{\"standoff\":15},\"zerolinecolor\":\"white\",\"automargin\":true,\"zerolinewidth\":2},\"yaxis\":{\"gridcolor\":\"white\",\"linecolor\":\"white\",\"ticks\":\"\",\"title\":{\"standoff\":15},\"zerolinecolor\":\"white\",\"automargin\":true,\"zerolinewidth\":2},\"scene\":{\"xaxis\":{\"backgroundcolor\":\"#E5ECF6\",\"gridcolor\":\"white\",\"linecolor\":\"white\",\"showbackground\":true,\"ticks\":\"\",\"zerolinecolor\":\"white\",\"gridwidth\":2},\"yaxis\":{\"backgroundcolor\":\"#E5ECF6\",\"gridcolor\":\"white\",\"linecolor\":\"white\",\"showbackground\":true,\"ticks\":\"\",\"zerolinecolor\":\"white\",\"gridwidth\":2},\"zaxis\":{\"backgroundcolor\":\"#E5ECF6\",\"gridcolor\":\"white\",\"linecolor\":\"white\",\"showbackground\":true,\"ticks\":\"\",\"zerolinecolor\":\"white\",\"gridwidth\":2}},\"shapedefaults\":{\"line\":{\"color\":\"#2a3f5f\"}},\"annotationdefaults\":{\"arrowcolor\":\"#2a3f5f\",\"arrowhead\":0,\"arrowwidth\":1},\"geo\":{\"bgcolor\":\"white\",\"landcolor\":\"#E5ECF6\",\"subunitcolor\":\"white\",\"showland\":true,\"showlakes\":true,\"lakecolor\":\"white\"},\"title\":{\"x\":0.05},\"mapbox\":{\"style\":\"light\"}}},\"xaxis\":{\"anchor\":\"y\",\"domain\":[0.0,1.0],\"title\":{\"text\":\"PC1\"}},\"yaxis\":{\"anchor\":\"x\",\"domain\":[0.0,1.0],\"title\":{\"text\":\"PC2\"}},\"legend\":{\"title\":{\"text\":\"priority\"},\"tracegroupgap\":0},\"title\":{\"text\":\"PCA projection of triage features\"}},                        {\"responsive\": true}                    ).then(function(){\n",
              "                            \n",
              "var gd = document.getElementById('0ad64821-4526-48ce-af26-85159bd68b62');\n",
              "var x = new MutationObserver(function (mutations, observer) {{\n",
              "        var display = window.getComputedStyle(gd).display;\n",
              "        if (!display || display === 'none') {{\n",
              "            console.log([gd, 'removed!']);\n",
              "            Plotly.purge(gd);\n",
              "            observer.disconnect();\n",
              "        }}\n",
              "}});\n",
              "\n",
              "// Listen for the removal of the full notebook cells\n",
              "var notebookContainer = gd.closest('#notebook-container');\n",
              "if (notebookContainer) {{\n",
              "    x.observe(notebookContainer, {childList: true});\n",
              "}}\n",
              "\n",
              "// Listen for the clearing of the current output cell\n",
              "var outputEl = gd.closest('.output');\n",
              "if (outputEl) {{\n",
              "    x.observe(outputEl, {childList: true});\n",
              "}}\n",
              "\n",
              "                        })                };                            </script>        </div>\n",
              "</body>\n",
              "</html>"
            ]
          },
          "metadata": {},
          "output_type": "display_data"
        },
        {
          "data": {
            "text/html": [
              "<html>\n",
              "<head><meta charset=\"utf-8\" /></head>\n",
              "<body>\n",
              "    <div>            <script src=\"https://cdnjs.cloudflare.com/ajax/libs/mathjax/2.7.5/MathJax.js?config=TeX-AMS-MML_SVG\"></script><script type=\"text/javascript\">if (window.MathJax && window.MathJax.Hub && window.MathJax.Hub.Config) {window.MathJax.Hub.Config({SVG: {font: \"STIX-Web\"}});}</script>                <script type=\"text/javascript\">window.PlotlyConfig = {MathJaxConfig: 'local'};</script>\n",
              "        <script charset=\"utf-8\" src=\"https://cdn.plot.ly/plotly-2.35.2.min.js\"></script>                <div id=\"47fd8809-6cde-4096-8ac0-c366ffbc8c81\" class=\"plotly-graph-div\" style=\"height:525px; width:100%;\"></div>            <script type=\"text/javascript\">                                    window.PLOTLYENV=window.PLOTLYENV || {};                                    if (document.getElementById(\"47fd8809-6cde-4096-8ac0-c366ffbc8c81\")) {                    Plotly.newPlot(                        \"47fd8809-6cde-4096-8ac0-c366ffbc8c81\",                        [{\"hoverinfo\":\"none\",\"line\":{\"color\":\"gray\",\"width\":1},\"mode\":\"lines\",\"x\":[-0.0776938039521445,0.7328133522191943,null,-0.0776938039521445,-0.24079791246805293,null,-0.0776938039521445,-1.0,null,-0.0776938039521445,0.5856783642010029,null,0.7328133522191943,-0.24079791246805293,null,0.7328133522191943,-1.0,null,0.7328133522191943,0.5856783642010029,null,-0.24079791246805293,-1.0,null,-0.24079791246805293,0.5856783642010029,null,-1.0,0.5856783642010029,null],\"y\":[0.5569271766709668,-0.6151021264283175,null,0.5569271766709668,-0.41948490697314944,null,0.5569271766709668,0.2322935423625225,null,0.5569271766709668,0.24536631436797712,null,-0.6151021264283175,-0.41948490697314944,null,-0.6151021264283175,0.2322935423625225,null,-0.6151021264283175,0.24536631436797712,null,-0.41948490697314944,0.2322935423625225,null,-0.41948490697314944,0.24536631436797712,null,0.2322935423625225,0.24536631436797712,null],\"type\":\"scatter\"},{\"hovertext\":[\"CARD_01: Specialist_1 (A=80,W=6)\",\"NEUR_02: Specialist_2 (A=70,W=4)\",\"TRMA_03: Specialist_3 (A=65,W=9)\",\"GENM_04: Specialist_4 (A=90,W=3)\",\"EMER_05: Specialist_5 (A=85,W=5)\"],\"marker\":{\"size\":[18.0,17.0,16.5,19.0,18.5]},\"mode\":\"markers+text\",\"text\":[\"Specialist_1\",\"Specialist_2\",\"Specialist_3\",\"Specialist_4\",\"Specialist_5\"],\"textposition\":\"bottom center\",\"x\":[-0.0776938039521445,0.7328133522191943,-0.24079791246805293,-1.0,0.5856783642010029],\"y\":[0.5569271766709668,-0.6151021264283175,-0.41948490697314944,0.2322935423625225,0.24536631436797712],\"type\":\"scatter\"}],                        {\"showlegend\":false,\"title\":{\"text\":\"Specialist Collaboration Network\"},\"template\":{\"data\":{\"histogram2dcontour\":[{\"type\":\"histogram2dcontour\",\"colorbar\":{\"outlinewidth\":0,\"ticks\":\"\"},\"colorscale\":[[0.0,\"#0d0887\"],[0.1111111111111111,\"#46039f\"],[0.2222222222222222,\"#7201a8\"],[0.3333333333333333,\"#9c179e\"],[0.4444444444444444,\"#bd3786\"],[0.5555555555555556,\"#d8576b\"],[0.6666666666666666,\"#ed7953\"],[0.7777777777777778,\"#fb9f3a\"],[0.8888888888888888,\"#fdca26\"],[1.0,\"#f0f921\"]]}],\"choropleth\":[{\"type\":\"choropleth\",\"colorbar\":{\"outlinewidth\":0,\"ticks\":\"\"}}],\"histogram2d\":[{\"type\":\"histogram2d\",\"colorbar\":{\"outlinewidth\":0,\"ticks\":\"\"},\"colorscale\":[[0.0,\"#0d0887\"],[0.1111111111111111,\"#46039f\"],[0.2222222222222222,\"#7201a8\"],[0.3333333333333333,\"#9c179e\"],[0.4444444444444444,\"#bd3786\"],[0.5555555555555556,\"#d8576b\"],[0.6666666666666666,\"#ed7953\"],[0.7777777777777778,\"#fb9f3a\"],[0.8888888888888888,\"#fdca26\"],[1.0,\"#f0f921\"]]}],\"heatmap\":[{\"type\":\"heatmap\",\"colorbar\":{\"outlinewidth\":0,\"ticks\":\"\"},\"colorscale\":[[0.0,\"#0d0887\"],[0.1111111111111111,\"#46039f\"],[0.2222222222222222,\"#7201a8\"],[0.3333333333333333,\"#9c179e\"],[0.4444444444444444,\"#bd3786\"],[0.5555555555555556,\"#d8576b\"],[0.6666666666666666,\"#ed7953\"],[0.7777777777777778,\"#fb9f3a\"],[0.8888888888888888,\"#fdca26\"],[1.0,\"#f0f921\"]]}],\"heatmapgl\":[{\"type\":\"heatmapgl\",\"colorbar\":{\"outlinewidth\":0,\"ticks\":\"\"},\"colorscale\":[[0.0,\"#0d0887\"],[0.1111111111111111,\"#46039f\"],[0.2222222222222222,\"#7201a8\"],[0.3333333333333333,\"#9c179e\"],[0.4444444444444444,\"#bd3786\"],[0.5555555555555556,\"#d8576b\"],[0.6666666666666666,\"#ed7953\"],[0.7777777777777778,\"#fb9f3a\"],[0.8888888888888888,\"#fdca26\"],[1.0,\"#f0f921\"]]}],\"contourcarpet\":[{\"type\":\"contourcarpet\",\"colorbar\":{\"outlinewidth\":0,\"ticks\":\"\"}}],\"contour\":[{\"type\":\"contour\",\"colorbar\":{\"outlinewidth\":0,\"ticks\":\"\"},\"colorscale\":[[0.0,\"#0d0887\"],[0.1111111111111111,\"#46039f\"],[0.2222222222222222,\"#7201a8\"],[0.3333333333333333,\"#9c179e\"],[0.4444444444444444,\"#bd3786\"],[0.5555555555555556,\"#d8576b\"],[0.6666666666666666,\"#ed7953\"],[0.7777777777777778,\"#fb9f3a\"],[0.8888888888888888,\"#fdca26\"],[1.0,\"#f0f921\"]]}],\"surface\":[{\"type\":\"surface\",\"colorbar\":{\"outlinewidth\":0,\"ticks\":\"\"},\"colorscale\":[[0.0,\"#0d0887\"],[0.1111111111111111,\"#46039f\"],[0.2222222222222222,\"#7201a8\"],[0.3333333333333333,\"#9c179e\"],[0.4444444444444444,\"#bd3786\"],[0.5555555555555556,\"#d8576b\"],[0.6666666666666666,\"#ed7953\"],[0.7777777777777778,\"#fb9f3a\"],[0.8888888888888888,\"#fdca26\"],[1.0,\"#f0f921\"]]}],\"mesh3d\":[{\"type\":\"mesh3d\",\"colorbar\":{\"outlinewidth\":0,\"ticks\":\"\"}}],\"scatter\":[{\"fillpattern\":{\"fillmode\":\"overlay\",\"size\":10,\"solidity\":0.2},\"type\":\"scatter\"}],\"parcoords\":[{\"type\":\"parcoords\",\"line\":{\"colorbar\":{\"outlinewidth\":0,\"ticks\":\"\"}}}],\"scatterpolargl\":[{\"type\":\"scatterpolargl\",\"marker\":{\"colorbar\":{\"outlinewidth\":0,\"ticks\":\"\"}}}],\"bar\":[{\"error_x\":{\"color\":\"#2a3f5f\"},\"error_y\":{\"color\":\"#2a3f5f\"},\"marker\":{\"line\":{\"color\":\"#E5ECF6\",\"width\":0.5},\"pattern\":{\"fillmode\":\"overlay\",\"size\":10,\"solidity\":0.2}},\"type\":\"bar\"}],\"scattergeo\":[{\"type\":\"scattergeo\",\"marker\":{\"colorbar\":{\"outlinewidth\":0,\"ticks\":\"\"}}}],\"scatterpolar\":[{\"type\":\"scatterpolar\",\"marker\":{\"colorbar\":{\"outlinewidth\":0,\"ticks\":\"\"}}}],\"histogram\":[{\"marker\":{\"pattern\":{\"fillmode\":\"overlay\",\"size\":10,\"solidity\":0.2}},\"type\":\"histogram\"}],\"scattergl\":[{\"type\":\"scattergl\",\"marker\":{\"colorbar\":{\"outlinewidth\":0,\"ticks\":\"\"}}}],\"scatter3d\":[{\"type\":\"scatter3d\",\"line\":{\"colorbar\":{\"outlinewidth\":0,\"ticks\":\"\"}},\"marker\":{\"colorbar\":{\"outlinewidth\":0,\"ticks\":\"\"}}}],\"scattermapbox\":[{\"type\":\"scattermapbox\",\"marker\":{\"colorbar\":{\"outlinewidth\":0,\"ticks\":\"\"}}}],\"scatterternary\":[{\"type\":\"scatterternary\",\"marker\":{\"colorbar\":{\"outlinewidth\":0,\"ticks\":\"\"}}}],\"scattercarpet\":[{\"type\":\"scattercarpet\",\"marker\":{\"colorbar\":{\"outlinewidth\":0,\"ticks\":\"\"}}}],\"carpet\":[{\"aaxis\":{\"endlinecolor\":\"#2a3f5f\",\"gridcolor\":\"white\",\"linecolor\":\"white\",\"minorgridcolor\":\"white\",\"startlinecolor\":\"#2a3f5f\"},\"baxis\":{\"endlinecolor\":\"#2a3f5f\",\"gridcolor\":\"white\",\"linecolor\":\"white\",\"minorgridcolor\":\"white\",\"startlinecolor\":\"#2a3f5f\"},\"type\":\"carpet\"}],\"table\":[{\"cells\":{\"fill\":{\"color\":\"#EBF0F8\"},\"line\":{\"color\":\"white\"}},\"header\":{\"fill\":{\"color\":\"#C8D4E3\"},\"line\":{\"color\":\"white\"}},\"type\":\"table\"}],\"barpolar\":[{\"marker\":{\"line\":{\"color\":\"#E5ECF6\",\"width\":0.5},\"pattern\":{\"fillmode\":\"overlay\",\"size\":10,\"solidity\":0.2}},\"type\":\"barpolar\"}],\"pie\":[{\"automargin\":true,\"type\":\"pie\"}]},\"layout\":{\"autotypenumbers\":\"strict\",\"colorway\":[\"#636efa\",\"#EF553B\",\"#00cc96\",\"#ab63fa\",\"#FFA15A\",\"#19d3f3\",\"#FF6692\",\"#B6E880\",\"#FF97FF\",\"#FECB52\"],\"font\":{\"color\":\"#2a3f5f\"},\"hovermode\":\"closest\",\"hoverlabel\":{\"align\":\"left\"},\"paper_bgcolor\":\"white\",\"plot_bgcolor\":\"#E5ECF6\",\"polar\":{\"bgcolor\":\"#E5ECF6\",\"angularaxis\":{\"gridcolor\":\"white\",\"linecolor\":\"white\",\"ticks\":\"\"},\"radialaxis\":{\"gridcolor\":\"white\",\"linecolor\":\"white\",\"ticks\":\"\"}},\"ternary\":{\"bgcolor\":\"#E5ECF6\",\"aaxis\":{\"gridcolor\":\"white\",\"linecolor\":\"white\",\"ticks\":\"\"},\"baxis\":{\"gridcolor\":\"white\",\"linecolor\":\"white\",\"ticks\":\"\"},\"caxis\":{\"gridcolor\":\"white\",\"linecolor\":\"white\",\"ticks\":\"\"}},\"coloraxis\":{\"colorbar\":{\"outlinewidth\":0,\"ticks\":\"\"}},\"colorscale\":{\"sequential\":[[0.0,\"#0d0887\"],[0.1111111111111111,\"#46039f\"],[0.2222222222222222,\"#7201a8\"],[0.3333333333333333,\"#9c179e\"],[0.4444444444444444,\"#bd3786\"],[0.5555555555555556,\"#d8576b\"],[0.6666666666666666,\"#ed7953\"],[0.7777777777777778,\"#fb9f3a\"],[0.8888888888888888,\"#fdca26\"],[1.0,\"#f0f921\"]],\"sequentialminus\":[[0.0,\"#0d0887\"],[0.1111111111111111,\"#46039f\"],[0.2222222222222222,\"#7201a8\"],[0.3333333333333333,\"#9c179e\"],[0.4444444444444444,\"#bd3786\"],[0.5555555555555556,\"#d8576b\"],[0.6666666666666666,\"#ed7953\"],[0.7777777777777778,\"#fb9f3a\"],[0.8888888888888888,\"#fdca26\"],[1.0,\"#f0f921\"]],\"diverging\":[[0,\"#8e0152\"],[0.1,\"#c51b7d\"],[0.2,\"#de77ae\"],[0.3,\"#f1b6da\"],[0.4,\"#fde0ef\"],[0.5,\"#f7f7f7\"],[0.6,\"#e6f5d0\"],[0.7,\"#b8e186\"],[0.8,\"#7fbc41\"],[0.9,\"#4d9221\"],[1,\"#276419\"]]},\"xaxis\":{\"gridcolor\":\"white\",\"linecolor\":\"white\",\"ticks\":\"\",\"title\":{\"standoff\":15},\"zerolinecolor\":\"white\",\"automargin\":true,\"zerolinewidth\":2},\"yaxis\":{\"gridcolor\":\"white\",\"linecolor\":\"white\",\"ticks\":\"\",\"title\":{\"standoff\":15},\"zerolinecolor\":\"white\",\"automargin\":true,\"zerolinewidth\":2},\"scene\":{\"xaxis\":{\"backgroundcolor\":\"#E5ECF6\",\"gridcolor\":\"white\",\"linecolor\":\"white\",\"showbackground\":true,\"ticks\":\"\",\"zerolinecolor\":\"white\",\"gridwidth\":2},\"yaxis\":{\"backgroundcolor\":\"#E5ECF6\",\"gridcolor\":\"white\",\"linecolor\":\"white\",\"showbackground\":true,\"ticks\":\"\",\"zerolinecolor\":\"white\",\"gridwidth\":2},\"zaxis\":{\"backgroundcolor\":\"#E5ECF6\",\"gridcolor\":\"white\",\"linecolor\":\"white\",\"showbackground\":true,\"ticks\":\"\",\"zerolinecolor\":\"white\",\"gridwidth\":2}},\"shapedefaults\":{\"line\":{\"color\":\"#2a3f5f\"}},\"annotationdefaults\":{\"arrowcolor\":\"#2a3f5f\",\"arrowhead\":0,\"arrowwidth\":1},\"geo\":{\"bgcolor\":\"white\",\"landcolor\":\"#E5ECF6\",\"subunitcolor\":\"white\",\"showland\":true,\"showlakes\":true,\"lakecolor\":\"white\"},\"title\":{\"x\":0.05},\"mapbox\":{\"style\":\"light\"}}}},                        {\"responsive\": true}                    ).then(function(){\n",
              "                            \n",
              "var gd = document.getElementById('47fd8809-6cde-4096-8ac0-c366ffbc8c81');\n",
              "var x = new MutationObserver(function (mutations, observer) {{\n",
              "        var display = window.getComputedStyle(gd).display;\n",
              "        if (!display || display === 'none') {{\n",
              "            console.log([gd, 'removed!']);\n",
              "            Plotly.purge(gd);\n",
              "            observer.disconnect();\n",
              "        }}\n",
              "}});\n",
              "\n",
              "// Listen for the removal of the full notebook cells\n",
              "var notebookContainer = gd.closest('#notebook-container');\n",
              "if (notebookContainer) {{\n",
              "    x.observe(notebookContainer, {childList: true});\n",
              "}}\n",
              "\n",
              "// Listen for the clearing of the current output cell\n",
              "var outputEl = gd.closest('.output');\n",
              "if (outputEl) {{\n",
              "    x.observe(outputEl, {childList: true});\n",
              "}}\n",
              "\n",
              "                        })                };                            </script>        </div>\n",
              "</body>\n",
              "</html>"
            ]
          },
          "metadata": {},
          "output_type": "display_data"
        },
        {
          "data": {
            "text/html": [
              "<html>\n",
              "<head><meta charset=\"utf-8\" /></head>\n",
              "<body>\n",
              "    <div>            <script src=\"https://cdnjs.cloudflare.com/ajax/libs/mathjax/2.7.5/MathJax.js?config=TeX-AMS-MML_SVG\"></script><script type=\"text/javascript\">if (window.MathJax && window.MathJax.Hub && window.MathJax.Hub.Config) {window.MathJax.Hub.Config({SVG: {font: \"STIX-Web\"}});}</script>                <script type=\"text/javascript\">window.PlotlyConfig = {MathJaxConfig: 'local'};</script>\n",
              "        <script charset=\"utf-8\" src=\"https://cdn.plot.ly/plotly-2.35.2.min.js\"></script>                <div id=\"194ee080-c70f-4cef-82a6-fb3d857eacb5\" class=\"plotly-graph-div\" style=\"height:525px; width:100%;\"></div>            <script type=\"text/javascript\">                                    window.PLOTLYENV=window.PLOTLYENV || {};                                    if (document.getElementById(\"194ee080-c70f-4cef-82a6-fb3d857eacb5\")) {                    Plotly.newPlot(                        \"194ee080-c70f-4cef-82a6-fb3d857eacb5\",                        [{\"fill\":\"toself\",\"name\":\"Specialist_5\",\"r\":[88,85,87,80,95],\"theta\":[\"expertise\",\"availability\",\"success_rate\",\"resource_access\",\"workload\"],\"type\":\"scatterpolar\"}],                        {\"template\":{\"data\":{\"histogram2dcontour\":[{\"type\":\"histogram2dcontour\",\"colorbar\":{\"outlinewidth\":0,\"ticks\":\"\"},\"colorscale\":[[0.0,\"#0d0887\"],[0.1111111111111111,\"#46039f\"],[0.2222222222222222,\"#7201a8\"],[0.3333333333333333,\"#9c179e\"],[0.4444444444444444,\"#bd3786\"],[0.5555555555555556,\"#d8576b\"],[0.6666666666666666,\"#ed7953\"],[0.7777777777777778,\"#fb9f3a\"],[0.8888888888888888,\"#fdca26\"],[1.0,\"#f0f921\"]]}],\"choropleth\":[{\"type\":\"choropleth\",\"colorbar\":{\"outlinewidth\":0,\"ticks\":\"\"}}],\"histogram2d\":[{\"type\":\"histogram2d\",\"colorbar\":{\"outlinewidth\":0,\"ticks\":\"\"},\"colorscale\":[[0.0,\"#0d0887\"],[0.1111111111111111,\"#46039f\"],[0.2222222222222222,\"#7201a8\"],[0.3333333333333333,\"#9c179e\"],[0.4444444444444444,\"#bd3786\"],[0.5555555555555556,\"#d8576b\"],[0.6666666666666666,\"#ed7953\"],[0.7777777777777778,\"#fb9f3a\"],[0.8888888888888888,\"#fdca26\"],[1.0,\"#f0f921\"]]}],\"heatmap\":[{\"type\":\"heatmap\",\"colorbar\":{\"outlinewidth\":0,\"ticks\":\"\"},\"colorscale\":[[0.0,\"#0d0887\"],[0.1111111111111111,\"#46039f\"],[0.2222222222222222,\"#7201a8\"],[0.3333333333333333,\"#9c179e\"],[0.4444444444444444,\"#bd3786\"],[0.5555555555555556,\"#d8576b\"],[0.6666666666666666,\"#ed7953\"],[0.7777777777777778,\"#fb9f3a\"],[0.8888888888888888,\"#fdca26\"],[1.0,\"#f0f921\"]]}],\"heatmapgl\":[{\"type\":\"heatmapgl\",\"colorbar\":{\"outlinewidth\":0,\"ticks\":\"\"},\"colorscale\":[[0.0,\"#0d0887\"],[0.1111111111111111,\"#46039f\"],[0.2222222222222222,\"#7201a8\"],[0.3333333333333333,\"#9c179e\"],[0.4444444444444444,\"#bd3786\"],[0.5555555555555556,\"#d8576b\"],[0.6666666666666666,\"#ed7953\"],[0.7777777777777778,\"#fb9f3a\"],[0.8888888888888888,\"#fdca26\"],[1.0,\"#f0f921\"]]}],\"contourcarpet\":[{\"type\":\"contourcarpet\",\"colorbar\":{\"outlinewidth\":0,\"ticks\":\"\"}}],\"contour\":[{\"type\":\"contour\",\"colorbar\":{\"outlinewidth\":0,\"ticks\":\"\"},\"colorscale\":[[0.0,\"#0d0887\"],[0.1111111111111111,\"#46039f\"],[0.2222222222222222,\"#7201a8\"],[0.3333333333333333,\"#9c179e\"],[0.4444444444444444,\"#bd3786\"],[0.5555555555555556,\"#d8576b\"],[0.6666666666666666,\"#ed7953\"],[0.7777777777777778,\"#fb9f3a\"],[0.8888888888888888,\"#fdca26\"],[1.0,\"#f0f921\"]]}],\"surface\":[{\"type\":\"surface\",\"colorbar\":{\"outlinewidth\":0,\"ticks\":\"\"},\"colorscale\":[[0.0,\"#0d0887\"],[0.1111111111111111,\"#46039f\"],[0.2222222222222222,\"#7201a8\"],[0.3333333333333333,\"#9c179e\"],[0.4444444444444444,\"#bd3786\"],[0.5555555555555556,\"#d8576b\"],[0.6666666666666666,\"#ed7953\"],[0.7777777777777778,\"#fb9f3a\"],[0.8888888888888888,\"#fdca26\"],[1.0,\"#f0f921\"]]}],\"mesh3d\":[{\"type\":\"mesh3d\",\"colorbar\":{\"outlinewidth\":0,\"ticks\":\"\"}}],\"scatter\":[{\"fillpattern\":{\"fillmode\":\"overlay\",\"size\":10,\"solidity\":0.2},\"type\":\"scatter\"}],\"parcoords\":[{\"type\":\"parcoords\",\"line\":{\"colorbar\":{\"outlinewidth\":0,\"ticks\":\"\"}}}],\"scatterpolargl\":[{\"type\":\"scatterpolargl\",\"marker\":{\"colorbar\":{\"outlinewidth\":0,\"ticks\":\"\"}}}],\"bar\":[{\"error_x\":{\"color\":\"#2a3f5f\"},\"error_y\":{\"color\":\"#2a3f5f\"},\"marker\":{\"line\":{\"color\":\"#E5ECF6\",\"width\":0.5},\"pattern\":{\"fillmode\":\"overlay\",\"size\":10,\"solidity\":0.2}},\"type\":\"bar\"}],\"scattergeo\":[{\"type\":\"scattergeo\",\"marker\":{\"colorbar\":{\"outlinewidth\":0,\"ticks\":\"\"}}}],\"scatterpolar\":[{\"type\":\"scatterpolar\",\"marker\":{\"colorbar\":{\"outlinewidth\":0,\"ticks\":\"\"}}}],\"histogram\":[{\"marker\":{\"pattern\":{\"fillmode\":\"overlay\",\"size\":10,\"solidity\":0.2}},\"type\":\"histogram\"}],\"scattergl\":[{\"type\":\"scattergl\",\"marker\":{\"colorbar\":{\"outlinewidth\":0,\"ticks\":\"\"}}}],\"scatter3d\":[{\"type\":\"scatter3d\",\"line\":{\"colorbar\":{\"outlinewidth\":0,\"ticks\":\"\"}},\"marker\":{\"colorbar\":{\"outlinewidth\":0,\"ticks\":\"\"}}}],\"scattermapbox\":[{\"type\":\"scattermapbox\",\"marker\":{\"colorbar\":{\"outlinewidth\":0,\"ticks\":\"\"}}}],\"scatterternary\":[{\"type\":\"scatterternary\",\"marker\":{\"colorbar\":{\"outlinewidth\":0,\"ticks\":\"\"}}}],\"scattercarpet\":[{\"type\":\"scattercarpet\",\"marker\":{\"colorbar\":{\"outlinewidth\":0,\"ticks\":\"\"}}}],\"carpet\":[{\"aaxis\":{\"endlinecolor\":\"#2a3f5f\",\"gridcolor\":\"white\",\"linecolor\":\"white\",\"minorgridcolor\":\"white\",\"startlinecolor\":\"#2a3f5f\"},\"baxis\":{\"endlinecolor\":\"#2a3f5f\",\"gridcolor\":\"white\",\"linecolor\":\"white\",\"minorgridcolor\":\"white\",\"startlinecolor\":\"#2a3f5f\"},\"type\":\"carpet\"}],\"table\":[{\"cells\":{\"fill\":{\"color\":\"#EBF0F8\"},\"line\":{\"color\":\"white\"}},\"header\":{\"fill\":{\"color\":\"#C8D4E3\"},\"line\":{\"color\":\"white\"}},\"type\":\"table\"}],\"barpolar\":[{\"marker\":{\"line\":{\"color\":\"#E5ECF6\",\"width\":0.5},\"pattern\":{\"fillmode\":\"overlay\",\"size\":10,\"solidity\":0.2}},\"type\":\"barpolar\"}],\"pie\":[{\"automargin\":true,\"type\":\"pie\"}]},\"layout\":{\"autotypenumbers\":\"strict\",\"colorway\":[\"#636efa\",\"#EF553B\",\"#00cc96\",\"#ab63fa\",\"#FFA15A\",\"#19d3f3\",\"#FF6692\",\"#B6E880\",\"#FF97FF\",\"#FECB52\"],\"font\":{\"color\":\"#2a3f5f\"},\"hovermode\":\"closest\",\"hoverlabel\":{\"align\":\"left\"},\"paper_bgcolor\":\"white\",\"plot_bgcolor\":\"#E5ECF6\",\"polar\":{\"bgcolor\":\"#E5ECF6\",\"angularaxis\":{\"gridcolor\":\"white\",\"linecolor\":\"white\",\"ticks\":\"\"},\"radialaxis\":{\"gridcolor\":\"white\",\"linecolor\":\"white\",\"ticks\":\"\"}},\"ternary\":{\"bgcolor\":\"#E5ECF6\",\"aaxis\":{\"gridcolor\":\"white\",\"linecolor\":\"white\",\"ticks\":\"\"},\"baxis\":{\"gridcolor\":\"white\",\"linecolor\":\"white\",\"ticks\":\"\"},\"caxis\":{\"gridcolor\":\"white\",\"linecolor\":\"white\",\"ticks\":\"\"}},\"coloraxis\":{\"colorbar\":{\"outlinewidth\":0,\"ticks\":\"\"}},\"colorscale\":{\"sequential\":[[0.0,\"#0d0887\"],[0.1111111111111111,\"#46039f\"],[0.2222222222222222,\"#7201a8\"],[0.3333333333333333,\"#9c179e\"],[0.4444444444444444,\"#bd3786\"],[0.5555555555555556,\"#d8576b\"],[0.6666666666666666,\"#ed7953\"],[0.7777777777777778,\"#fb9f3a\"],[0.8888888888888888,\"#fdca26\"],[1.0,\"#f0f921\"]],\"sequentialminus\":[[0.0,\"#0d0887\"],[0.1111111111111111,\"#46039f\"],[0.2222222222222222,\"#7201a8\"],[0.3333333333333333,\"#9c179e\"],[0.4444444444444444,\"#bd3786\"],[0.5555555555555556,\"#d8576b\"],[0.6666666666666666,\"#ed7953\"],[0.7777777777777778,\"#fb9f3a\"],[0.8888888888888888,\"#fdca26\"],[1.0,\"#f0f921\"]],\"diverging\":[[0,\"#8e0152\"],[0.1,\"#c51b7d\"],[0.2,\"#de77ae\"],[0.3,\"#f1b6da\"],[0.4,\"#fde0ef\"],[0.5,\"#f7f7f7\"],[0.6,\"#e6f5d0\"],[0.7,\"#b8e186\"],[0.8,\"#7fbc41\"],[0.9,\"#4d9221\"],[1,\"#276419\"]]},\"xaxis\":{\"gridcolor\":\"white\",\"linecolor\":\"white\",\"ticks\":\"\",\"title\":{\"standoff\":15},\"zerolinecolor\":\"white\",\"automargin\":true,\"zerolinewidth\":2},\"yaxis\":{\"gridcolor\":\"white\",\"linecolor\":\"white\",\"ticks\":\"\",\"title\":{\"standoff\":15},\"zerolinecolor\":\"white\",\"automargin\":true,\"zerolinewidth\":2},\"scene\":{\"xaxis\":{\"backgroundcolor\":\"#E5ECF6\",\"gridcolor\":\"white\",\"linecolor\":\"white\",\"showbackground\":true,\"ticks\":\"\",\"zerolinecolor\":\"white\",\"gridwidth\":2},\"yaxis\":{\"backgroundcolor\":\"#E5ECF6\",\"gridcolor\":\"white\",\"linecolor\":\"white\",\"showbackground\":true,\"ticks\":\"\",\"zerolinecolor\":\"white\",\"gridwidth\":2},\"zaxis\":{\"backgroundcolor\":\"#E5ECF6\",\"gridcolor\":\"white\",\"linecolor\":\"white\",\"showbackground\":true,\"ticks\":\"\",\"zerolinecolor\":\"white\",\"gridwidth\":2}},\"shapedefaults\":{\"line\":{\"color\":\"#2a3f5f\"}},\"annotationdefaults\":{\"arrowcolor\":\"#2a3f5f\",\"arrowhead\":0,\"arrowwidth\":1},\"geo\":{\"bgcolor\":\"white\",\"landcolor\":\"#E5ECF6\",\"subunitcolor\":\"white\",\"showland\":true,\"showlakes\":true,\"lakecolor\":\"white\"},\"title\":{\"x\":0.05},\"mapbox\":{\"style\":\"light\"}}},\"polar\":{\"radialaxis\":{\"visible\":true}},\"title\":{\"text\":\"Radar: Capabilities of recommended specialist for P003\"}},                        {\"responsive\": true}                    ).then(function(){\n",
              "                            \n",
              "var gd = document.getElementById('194ee080-c70f-4cef-82a6-fb3d857eacb5');\n",
              "var x = new MutationObserver(function (mutations, observer) {{\n",
              "        var display = window.getComputedStyle(gd).display;\n",
              "        if (!display || display === 'none') {{\n",
              "            console.log([gd, 'removed!']);\n",
              "            Plotly.purge(gd);\n",
              "            observer.disconnect();\n",
              "        }}\n",
              "}});\n",
              "\n",
              "// Listen for the removal of the full notebook cells\n",
              "var notebookContainer = gd.closest('#notebook-container');\n",
              "if (notebookContainer) {{\n",
              "    x.observe(notebookContainer, {childList: true});\n",
              "}}\n",
              "\n",
              "// Listen for the clearing of the current output cell\n",
              "var outputEl = gd.closest('.output');\n",
              "if (outputEl) {{\n",
              "    x.observe(outputEl, {childList: true});\n",
              "}}\n",
              "\n",
              "                        })                };                            </script>        </div>\n",
              "</body>\n",
              "</html>"
            ]
          },
          "metadata": {},
          "output_type": "display_data"
        },
        {
          "data": {
            "text/html": [
              "<pre style=\"white-space:pre;overflow-x:auto;line-height:normal;font-family:Menlo,'DejaVu Sans Mono',consolas,'Courier New',monospace\">\n",
              "<span style=\"font-weight: bold\">Menu:</span>\n",
              "</pre>\n"
            ],
            "text/plain": [
              "\n",
              "\u001b[1mMenu:\u001b[0m\n"
            ]
          },
          "metadata": {},
          "output_type": "display_data"
        },
        {
          "data": {
            "text/html": [
              "<pre style=\"white-space:pre;overflow-x:auto;line-height:normal;font-family:Menlo,'DejaVu Sans Mono',consolas,'Courier New',monospace\"><span style=\"color: #008080; text-decoration-color: #008080; font-weight: bold\">1</span>. Load <span style=\"color: #008080; text-decoration-color: #008080; font-weight: bold\">10</span> fixed sample patients <span style=\"font-weight: bold\">(</span>demo<span style=\"font-weight: bold\">)</span>\n",
              "</pre>\n"
            ],
            "text/plain": [
              "\u001b[1;36m1\u001b[0m. Load \u001b[1;36m10\u001b[0m fixed sample patients \u001b[1m(\u001b[0mdemo\u001b[1m)\u001b[0m\n"
            ]
          },
          "metadata": {},
          "output_type": "display_data"
        },
        {
          "data": {
            "text/html": [
              "<pre style=\"white-space:pre;overflow-x:auto;line-height:normal;font-family:Menlo,'DejaVu Sans Mono',consolas,'Courier New',monospace\"><span style=\"color: #008080; text-decoration-color: #008080; font-weight: bold\">2</span>. Add one patient manually\n",
              "</pre>\n"
            ],
            "text/plain": [
              "\u001b[1;36m2\u001b[0m. Add one patient manually\n"
            ]
          },
          "metadata": {},
          "output_type": "display_data"
        },
        {
          "data": {
            "text/html": [
              "<pre style=\"white-space:pre;overflow-x:auto;line-height:normal;font-family:Menlo,'DejaVu Sans Mono',consolas,'Courier New',monospace\"><span style=\"color: #008080; text-decoration-color: #008080; font-weight: bold\">3</span>. Run triage <span style=\"font-weight: bold\">(</span>choose algorithm <span style=\"color: #800080; text-decoration-color: #800080\">/</span> ensemble<span style=\"font-weight: bold\">)</span>\n",
              "</pre>\n"
            ],
            "text/plain": [
              "\u001b[1;36m3\u001b[0m. Run triage \u001b[1m(\u001b[0mchoose algorithm \u001b[35m/\u001b[0m ensemble\u001b[1m)\u001b[0m\n"
            ]
          },
          "metadata": {},
          "output_type": "display_data"
        },
        {
          "data": {
            "text/html": [
              "<pre style=\"white-space:pre;overflow-x:auto;line-height:normal;font-family:Menlo,'DejaVu Sans Mono',consolas,'Courier New',monospace\"><span style=\"color: #008080; text-decoration-color: #008080; font-weight: bold\">4</span>. Show triage report <span style=\"font-weight: bold\">(</span>console<span style=\"font-weight: bold\">)</span>\n",
              "</pre>\n"
            ],
            "text/plain": [
              "\u001b[1;36m4\u001b[0m. Show triage report \u001b[1m(\u001b[0mconsole\u001b[1m)\u001b[0m\n"
            ]
          },
          "metadata": {},
          "output_type": "display_data"
        },
        {
          "data": {
            "text/html": [
              "<pre style=\"white-space:pre;overflow-x:auto;line-height:normal;font-family:Menlo,'DejaVu Sans Mono',consolas,'Courier New',monospace\"><span style=\"color: #008080; text-decoration-color: #008080; font-weight: bold\">5</span>. Route a patient to specialists <span style=\"font-weight: bold\">(</span>WASPAS + adaptive GNN + Similarity fusion<span style=\"font-weight: bold\">)</span>\n",
              "</pre>\n"
            ],
            "text/plain": [
              "\u001b[1;36m5\u001b[0m. Route a patient to specialists \u001b[1m(\u001b[0mWASPAS + adaptive GNN + Similarity fusion\u001b[1m)\u001b[0m\n"
            ]
          },
          "metadata": {},
          "output_type": "display_data"
        },
        {
          "data": {
            "text/html": [
              "<pre style=\"white-space:pre;overflow-x:auto;line-height:normal;font-family:Menlo,'DejaVu Sans Mono',consolas,'Courier New',monospace\"><span style=\"color: #008080; text-decoration-color: #008080; font-weight: bold\">6</span>. Visualize dashboard <span style=\"font-weight: bold\">(</span>Plotly<span style=\"font-weight: bold\">)</span>\n",
              "</pre>\n"
            ],
            "text/plain": [
              "\u001b[1;36m6\u001b[0m. Visualize dashboard \u001b[1m(\u001b[0mPlotly\u001b[1m)\u001b[0m\n"
            ]
          },
          "metadata": {},
          "output_type": "display_data"
        },
        {
          "data": {
            "text/html": [
              "<pre style=\"white-space:pre;overflow-x:auto;line-height:normal;font-family:Menlo,'DejaVu Sans Mono',consolas,'Courier New',monospace\"><span style=\"color: #008080; text-decoration-color: #008080; font-weight: bold\">7</span>. Export CSV of triage patient list\n",
              "</pre>\n"
            ],
            "text/plain": [
              "\u001b[1;36m7\u001b[0m. Export CSV of triage patient list\n"
            ]
          },
          "metadata": {},
          "output_type": "display_data"
        },
        {
          "data": {
            "text/html": [
              "<pre style=\"white-space:pre;overflow-x:auto;line-height:normal;font-family:Menlo,'DejaVu Sans Mono',consolas,'Courier New',monospace\"><span style=\"color: #008080; text-decoration-color: #008080; font-weight: bold\">8</span>. Export event log <span style=\"font-weight: bold\">(</span>JSON<span style=\"font-weight: bold\">)</span>\n",
              "</pre>\n"
            ],
            "text/plain": [
              "\u001b[1;36m8\u001b[0m. Export event log \u001b[1m(\u001b[0mJSON\u001b[1m)\u001b[0m\n"
            ]
          },
          "metadata": {},
          "output_type": "display_data"
        },
        {
          "data": {
            "text/html": [
              "<pre style=\"white-space:pre;overflow-x:auto;line-height:normal;font-family:Menlo,'DejaVu Sans Mono',consolas,'Courier New',monospace\"><span style=\"color: #008080; text-decoration-color: #008080; font-weight: bold\">9</span>. Simulation mode <span style=\"font-weight: bold\">(</span>stress test<span style=\"font-weight: bold\">)</span>\n",
              "</pre>\n"
            ],
            "text/plain": [
              "\u001b[1;36m9\u001b[0m. Simulation mode \u001b[1m(\u001b[0mstress test\u001b[1m)\u001b[0m\n"
            ]
          },
          "metadata": {},
          "output_type": "display_data"
        },
        {
          "data": {
            "text/html": [
              "<pre style=\"white-space:pre;overflow-x:auto;line-height:normal;font-family:Menlo,'DejaVu Sans Mono',consolas,'Courier New',monospace\"><span style=\"color: #008080; text-decoration-color: #008080; font-weight: bold\">10</span>. Clear all patients\n",
              "</pre>\n"
            ],
            "text/plain": [
              "\u001b[1;36m10\u001b[0m. Clear all patients\n"
            ]
          },
          "metadata": {},
          "output_type": "display_data"
        },
        {
          "data": {
            "text/html": [
              "<pre style=\"white-space:pre;overflow-x:auto;line-height:normal;font-family:Menlo,'DejaVu Sans Mono',consolas,'Courier New',monospace\"><span style=\"color: #008080; text-decoration-color: #008080; font-weight: bold\">11</span>. Exit\n",
              "</pre>\n"
            ],
            "text/plain": [
              "\u001b[1;36m11\u001b[0m. Exit\n"
            ]
          },
          "metadata": {},
          "output_type": "display_data"
        },
        {
          "data": {
            "text/html": [
              "<pre style=\"white-space:pre;overflow-x:auto;line-height:normal;font-family:Menlo,'DejaVu Sans Mono',consolas,'Courier New',monospace\">Choose (1-11) <span style=\"color: #008080; text-decoration-color: #008080; font-weight: bold\">(1)</span>: </pre>\n"
            ],
            "text/plain": [
              "Choose (1-11) \u001b[1;36m(1)\u001b[0m: "
            ]
          },
          "metadata": {},
          "output_type": "display_data"
        },
        {
          "name": "stdout",
          "output_type": "stream",
          "text": [
            "6\n"
          ]
        },
        {
          "output_type": "display_data",
          "data": {
            "text/plain": [
              "Save visuals to disk? \u001b[1;35m[y/n]\u001b[0m \u001b[1;36m(n)\u001b[0m: "
            ],
            "text/html": [
              "<pre style=\"white-space:pre;overflow-x:auto;line-height:normal;font-family:Menlo,'DejaVu Sans Mono',consolas,'Courier New',monospace\">Save visuals to disk? <span style=\"color: #800080; text-decoration-color: #800080; font-weight: bold\">[y/n]</span> <span style=\"color: #008080; text-decoration-color: #008080; font-weight: bold\">(n)</span>: </pre>\n"
            ]
          },
          "metadata": {}
        }
      ],
      "source": [
        "import sys\n",
        "try:\n",
        "    import pkgutil, importlib\n",
        "    required = [\"scikit_learn\", \"plotly\", \"pandas\", \"numpy\", \"rich\", \"networkx\"]\n",
        "    for r in required:\n",
        "        if not pkgutil.find_loader(r):\n",
        "            raise ImportError\n",
        "except Exception:\n",
        "    try:\n",
        "        print(\"Installing required packages...\")\n",
        "        !pip install -q scikit-learn plotly pandas numpy rich networkx\n",
        "    except Exception:\n",
        "        import subprocess\n",
        "        subprocess.check_call([sys.executable, \"-m\", \"pip\", \"install\", \"scikit-learn\", \"plotly\", \"pandas\", \"numpy\", \"rich\", \"networkx\"])\n",
        "\n",
        "# ------------------ Imports ------------------\n",
        "import numpy as np\n",
        "import pandas as pd\n",
        "from datetime import datetime\n",
        "import warnings, math, json, os, random\n",
        "warnings.filterwarnings(\"ignore\")\n",
        "\n",
        "from sklearn.decomposition import PCA\n",
        "from sklearn.preprocessing import StandardScaler\n",
        "from sklearn.metrics.pairwise import cosine_similarity\n",
        "\n",
        "import plotly.express as px\n",
        "import plotly.graph_objects as go\n",
        "import networkx as nx\n",
        "\n",
        "from rich.console import Console\n",
        "from rich.table import Table\n",
        "from rich.panel import Panel\n",
        "from rich.prompt import Prompt, IntPrompt, Confirm\n",
        "from rich.progress import track\n",
        "\n",
        "console = Console()\n",
        "pd.set_option('display.max_columns', 200)\n",
        "pd.set_option('display.width', 140)\n",
        "\n",
        "# ------------------ Base data (same as your earlier definitions) ------------------\n",
        "SPECIALISTS = [\n",
        "    {'id': 'CARD_01', 'label': 'Specialist_1', 'expertise': 92, 'availability': 80, 'success_rate': 88, 'resource_access': 90, 'workload': 6, 'specialization': 'Cardiac'},\n",
        "    {'id': 'NEUR_02', 'label': 'Specialist_2', 'expertise': 89, 'availability': 70, 'success_rate': 90, 'resource_access': 75, 'workload': 4, 'specialization': 'Neurology'},\n",
        "    {'id': 'TRMA_03', 'label': 'Specialist_3', 'expertise': 95, 'availability': 65, 'success_rate': 91, 'resource_access': 85, 'workload': 9, 'specialization': 'Trauma'},\n",
        "    {'id': 'GENM_04', 'label': 'Specialist_4', 'expertise': 80, 'availability': 90, 'success_rate': 82, 'resource_access': 70, 'workload': 3, 'specialization': 'General Medicine'},\n",
        "    {'id': 'EMER_05', 'label': 'Specialist_5', 'expertise': 88, 'availability': 85, 'success_rate': 87, 'resource_access': 80, 'workload': 5, 'specialization': 'Emergency'}\n",
        "]\n",
        "\n",
        "SPECIALIST_SYM = {\n",
        "    'CARD_01': np.array([1,0,0,0,0.95,0.2,0.2,0.1]),\n",
        "    'NEUR_02': np.array([0,1,0,0,0.2,0.95,0.2,0.1]),\n",
        "    'TRMA_03': np.array([0,0,1,0,0.3,0.3,0.9,0.1]),\n",
        "    'GENM_04': np.array([0.5,0.5,0.2,0.2,0.5,0.5,0.5,0.4]),\n",
        "    'EMER_05': np.array([0.7,0.6,0.5,0.6,0.9,0.8,0.6,0.3])\n",
        "}\n",
        "\n",
        "ADJ = np.array([\n",
        "    [1.0,0.2,0.6,0.1,0.3],\n",
        "    [0.2,1.0,0.2,0.1,0.4],\n",
        "    [0.6,0.2,1.0,0.1,0.3],\n",
        "    [0.1,0.1,0.1,1.0,0.2],\n",
        "    [0.3,0.4,0.3,0.2,1.0]\n",
        "])\n",
        "\n",
        "SAMPLE_PATIENTS = [\n",
        "    [\"P001\", 60, 39.0, 90, 85, 80, 90, 7, \"Acute Myocardial Infarction\"],\n",
        "    [\"P002\", 8, 37.5, 80, 85, 70, 80, 6, \"Severe Asthma Exacerbation\"],\n",
        "    [\"P003\", 72, 38.2, 85, 90, 85, 88, 6, \"Displaced Hip Fracture\"],\n",
        "    [\"P004\", 25, 36.8, 30, 25, 20, 20, 2, \"Deep Laceration\"],\n",
        "    [\"P005\", 55, 39.5, 90, 95, 90, 90, 3, \"Acute Ischemic Stroke\"],\n",
        "    [\"P006\", 60, 38.8, 85, 80, 75, 85, 7, \"Severe Pneumonia\"],\n",
        "    [\"P007\", 35, 37.2, 70, 75, 60, 65, 8, \"Appendicitis\"],\n",
        "    [\"P008\", 50, 36.9, 60, 55, 50, 60, 5, \"Fractured Arm\"],\n",
        "    [\"P009\", 28, 39.2, 40, 50, 20, 30, 7, \"Migraine Attack\"],\n",
        "    [\"P010\", 65, 37.8, 85, 80, 90, 85, 5, \"Chronic Heart Failure\"]\n",
        "]\n",
        "\n",
        "# ------------------ Utility functions (improved) ------------------\n",
        "def ensure_dir(path):\n",
        "    os.makedirs(path, exist_ok=True)\n",
        "\n",
        "def now_str():\n",
        "    return datetime.now().strftime(\"%Y%m%d_%H%M%S\")\n",
        "\n",
        "def normalize_cols_by_vector_norm(X: np.ndarray) -> np.ndarray:\n",
        "    denom = np.sqrt((X**2).sum(axis=0))\n",
        "    denom[denom == 0] = 1.0\n",
        "    return X / denom\n",
        "\n",
        "def topsis_scores(decision_matrix: np.ndarray, weights: np.ndarray, benefit_flags=None) -> np.ndarray:\n",
        "    R = normalize_cols_by_vector_norm(decision_matrix)\n",
        "    w = np.array(weights, dtype=float).flatten()\n",
        "    w = w / (w.sum() + 1e-12)\n",
        "    V = R * w\n",
        "    if benefit_flags is None:\n",
        "        benefit_flags = [True] * V.shape[1]\n",
        "    pos = np.array([V[:, j].max() if benefit_flags[j] else V[:, j].min() for j in range(V.shape[1])])\n",
        "    neg = np.array([V[:, j].min() if benefit_flags[j] else V[:, j].max() for j in range(V.shape[1])])\n",
        "    d_pos = np.sqrt(((V - pos)**2).sum(axis=1))\n",
        "    d_neg = np.sqrt(((V - neg)**2).sum(axis=1))\n",
        "    Ci = d_neg / (d_pos + d_neg + 1e-12)\n",
        "    return Ci\n",
        "\n",
        "def promethee_netflow(decision_matrix: np.ndarray, weights: np.ndarray) -> np.ndarray:\n",
        "    X = decision_matrix.astype(float)\n",
        "    m, n = X.shape\n",
        "    W = np.array(weights) / (np.sum(weights) + 1e-12)\n",
        "    P = np.zeros((m, m))\n",
        "    rng = X.max(axis=0) - X.min(axis=0)\n",
        "    rng[rng == 0] = 1.0\n",
        "    for i in range(m):\n",
        "        for j in range(m):\n",
        "            if i == j: continue\n",
        "            diffs = (X[i] - X[j]) / rng\n",
        "            prefs = 1.0 / (1.0 + np.exp(-5.0 * diffs))  # smooth preference\n",
        "            P[i, j] = (W * prefs).sum()\n",
        "    phi_plus = P.sum(axis=1) / (m - 1)\n",
        "    phi_minus = P.sum(axis=0) / (m - 1)\n",
        "    netflow = phi_plus - phi_minus\n",
        "    return netflow\n",
        "\n",
        "def fuzzy_mamdani_label(severity_norm, urgency_norm, waiting_norm):\n",
        "    # same fuzzy but returning numeric score too for ensemble\n",
        "    def low(x): return max(0.0, min((0.5 - x)/0.5, 1.0))\n",
        "    def med(x): return max(0.0, 1 - abs(x - 0.5)/0.25)\n",
        "    def high(x): return max(0.0, min((x - 0.5)/0.5, 1.0))\n",
        "    sev_h, sev_m, sev_l = high(severity_norm), med(severity_norm), low(severity_norm)\n",
        "    urg_h, urg_m, urg_l = high(urgency_norm), med(urgency_norm), low(urgency_norm)\n",
        "    wait_h, wait_m, wait_l = high(waiting_norm), med(waiting_norm), low(waiting_norm)\n",
        "    rules = []\n",
        "    rules.append((max(sev_h, urg_h, wait_h), 0.95))\n",
        "    rules.append((max(min(sev_m, urg_m), min(sev_h, urg_m), min(sev_m, urg_h)), 0.7))\n",
        "    rules.append((max(min(sev_m, urg_l), min(sev_l, urg_m)), 0.45))\n",
        "    rules.append((min(sev_l, urg_l, wait_l), 0.12))\n",
        "    num = sum(r[0] * r[1] for r in rules)\n",
        "    den = sum(r[0] for r in rules) + 1e-12\n",
        "    score = num / den\n",
        "    if score >= 0.8: label = \"Emergency/Immediate\"\n",
        "    elif score >= 0.6: label = \"Urgent\"\n",
        "    elif score >= 0.35: label = \"Semi-Urgent\"\n",
        "    else: label = \"Routine\"\n",
        "    return label, float(score)\n",
        "\n",
        "def waspas_for_patient(patient_sym_vector: np.ndarray, specialists: list, lam=0.5):\n",
        "    cols = ['expertise','availability','success_rate','resource_access','workload']\n",
        "    mat = []\n",
        "    ids = []\n",
        "    for s in specialists:\n",
        "        mat.append([s['expertise'], s['availability'], s['success_rate'], s['resource_access'], s['workload']])\n",
        "        ids.append(s['id'])\n",
        "    mat = np.array(mat, dtype=float)\n",
        "    Xn = np.zeros_like(mat)\n",
        "    for j, col in enumerate(cols):\n",
        "        if col == 'workload':\n",
        "            mn = mat[:, j].min() or 1.0\n",
        "            Xn[:, j] = mn / np.maximum(mat[:, j], 1e-9)\n",
        "        else:\n",
        "            mx = mat[:, j].max() or 1.0\n",
        "            Xn[:, j] = mat[:, j] / mx\n",
        "    w = np.array([0.35, 0.20, 0.25, 0.15, 0.05])\n",
        "    w = w / (w.sum() + 1e-12)\n",
        "    Q_wsm = (Xn * w).sum(axis=1)\n",
        "    with np.errstate(divide='ignore'):\n",
        "        Q_wpm = np.prod(np.power(np.clip(Xn, 1e-9, None), w), axis=1)\n",
        "    Q = lam * Q_wsm + (1 - lam) * Q_wpm\n",
        "    return ids, Q, Xn\n",
        "\n",
        "def gnn_adjust_scores(base_scores: np.ndarray, eta=0.2, avail_vector=None, workloads=None, iters=2):\n",
        "    # adaptive GNN: adjust adjacency by availability and inverse workload (prefer low workload)\n",
        "    if avail_vector is None:\n",
        "        avail_vector = np.array([s['availability'] for s in SPECIALISTS]) / 100.0\n",
        "    if workloads is None:\n",
        "        workloads = np.array([s['workload'] for s in SPECIALISTS])\n",
        "    # adjacency adaptation\n",
        "    avail_factor = avail_vector.reshape(-1,1) * (1.0 / (1.0 + workloads.reshape(-1,1)))\n",
        "    adj_mod = ADJ * (0.5 + 0.5 * (avail_factor @ avail_factor.T))\n",
        "    influence = adj_mod.dot(avail_vector)\n",
        "    scores = base_scores.copy().astype(float)\n",
        "    for _ in range(iters):\n",
        "        scores = scores + eta * influence\n",
        "        scores = scores / (1.0 + eta * adj_mod.mean())\n",
        "    return scores\n",
        "\n",
        "def similarity_scores(patient_sym_vector: np.ndarray, spec_sym_map: dict, specialists=None):\n",
        "    sims = []\n",
        "    ids = []\n",
        "    if specialists is None:\n",
        "        specialists = SPECIALISTS\n",
        "    for s in specialists:\n",
        "        sid = s['id']\n",
        "        vec = spec_sym_map.get(sid, None)\n",
        "        if vec is None:\n",
        "            sims.append(0.0)\n",
        "        else:\n",
        "            sims.append(float(cosine_similarity([patient_sym_vector], [vec])[0,0]))\n",
        "        ids.append(sid)\n",
        "    return ids, np.array(sims)\n",
        "\n",
        "def rank_like(scores: np.ndarray):\n",
        "    order = (-scores).argsort()\n",
        "    ranks = np.empty_like(order)\n",
        "    ranks[order] = np.arange(1, len(scores)+1)\n",
        "    maxr = len(scores)\n",
        "    scorelike = (maxr - ranks) / (maxr - 1) if maxr > 1 else np.ones_like(ranks, dtype=float)\n",
        "    return scorelike, ranks\n",
        "\n",
        "def aggregate_ranks(ids, waspas_scores, gnn_scores, sim_scores, use_gnn=True, weights=(0.5,0.3,0.2)):\n",
        "    w_waspas, w_gnn, w_sim = weights\n",
        "    w_like, _ = rank_like(waspas_scores)\n",
        "    g_like, _ = rank_like(gnn_scores) if use_gnn else (np.zeros_like(w_like), None)\n",
        "    s_like, _ = rank_like(sim_scores)\n",
        "    fused = w_waspas * w_like + (w_gnn * g_like if use_gnn else 0.0) + w_sim * s_like\n",
        "    order = (-fused).argsort()\n",
        "    final_ids = [ids[i] for i in order]\n",
        "    final_scores = fused[order]\n",
        "    return final_ids, final_scores\n",
        "\n",
        "def build_patient_sym_vector(record: dict):\n",
        "    cond = record.get('condition_desc','').lower()\n",
        "    cardiac = 1.0 if any(k in cond for k in ['heart','card','mi','angina']) else 0.0\n",
        "    neuro = 1.0 if any(k in cond for k in ['stroke','neuro','seizure','paralysis']) else 0.0\n",
        "    trauma = 1.0 if any(k in cond for k in ['trauma','fracture','injury','bleed','laceration']) else 0.0\n",
        "    metabolic = 1.0 if any(k in cond for k in ['diabet','metabolic','keto','hypogly']) else 0.0\n",
        "    sev = record.get('severity',50)/100.0\n",
        "    urg = record.get('urgency',50)/100.0\n",
        "    pain = record.get('pain_level',0)/10.0\n",
        "    age_adj = record.get('age',40)/100.0\n",
        "    return np.array([cardiac, neuro, trauma, metabolic, sev, urg, pain, age_adj], dtype=float)\n",
        "\n",
        "def age_vulnerability_from_age(age:int):\n",
        "    if age >= 75: return 90.0\n",
        "    if age >= 65: return 70.0\n",
        "    if age <= 5: return 85.0\n",
        "    if age <= 18: return 60.0\n",
        "    return 30.0\n",
        "\n",
        "# ------------------ Combined System Class (improved) ------------------\n",
        "class CombinedMedicalSystem:\n",
        "    def __init__(self, specialists=None, spec_sym=None, log_dir=\"logs\"):\n",
        "        self.patients = []\n",
        "        self.specialists = specialists.copy() if specialists else SPECIALISTS.copy()\n",
        "        self.spec_sym = spec_sym.copy() if spec_sym else SPECIALIST_SYM.copy()\n",
        "        self.last_weights = None\n",
        "        self.log_dir = log_dir\n",
        "        ensure_dir(self.log_dir)\n",
        "        self.event_log = []  # list of dicts for CSV export\n",
        "\n",
        "    # load and annotate samples (with fuzzy)\n",
        "    def load_sample_patients(self, auto_run_triage=True):\n",
        "        self.patients = []\n",
        "        for rec in SAMPLE_PATIENTS:\n",
        "            pid, age, temp, sev, urg, res, wait, pain, cond = rec\n",
        "            age_vuln = age_vulnerability_from_age(age)\n",
        "            p = {\n",
        "                'id': pid, 'age': age, 'temp': temp,\n",
        "                'severity': sev, 'urgency': urg, 'resource_need': res,\n",
        "                'waiting_impact': wait, 'age_vulnerability': age_vuln,\n",
        "                'pain_level': pain, 'condition_desc': cond,\n",
        "                'registration_time': datetime.now().isoformat()\n",
        "            }\n",
        "            label, fuzzy_score = fuzzy_mamdani_label(sev/100.0, urg/100.0, wait/100.0)\n",
        "            p['fuzzy_label'] = label\n",
        "            p['fuzzy_score'] = fuzzy_score\n",
        "            self.patients.append(p)\n",
        "        if auto_run_triage:\n",
        "            self.run_triage(use_pca=True)\n",
        "\n",
        "    def add_patient_interactive(self):\n",
        "        console.print(\"\\n[bold]Enter new patient details[/bold]\")\n",
        "        pid = Prompt.ask(\"Patient ID (e.g., P011)\")\n",
        "        if any(p['id'] == pid for p in self.patients):\n",
        "            console.print(\"[red]ID exists — choose a unique ID.[/red]\")\n",
        "            return\n",
        "        try:\n",
        "            age = IntPrompt.ask(\"Age (years)\")\n",
        "            temp = float(Prompt.ask(\"Temperature (°C)\", default=\"36.6\"))\n",
        "            cond = Prompt.ask(\"Condition short description\")\n",
        "            sev = float(Prompt.ask(\"Severity (0-100)\", default=\"50\"))\n",
        "            urg = float(Prompt.ask(\"Urgency (0-100)\", default=\"50\"))\n",
        "            res = float(Prompt.ask(\"Resource need (0-100)\", default=\"50\"))\n",
        "            wait = float(Prompt.ask(\"Waiting impact (0-100)\", default=\"10\"))\n",
        "            pain = float(Prompt.ask(\"Pain level (0-10)\", default=\"1\"))\n",
        "        except Exception as e:\n",
        "            console.print(\"[red]Invalid input. Aborting add.[/red]\", e)\n",
        "            return\n",
        "        p = {\n",
        "            'id': pid, 'age': age, 'temp': temp, 'condition_desc': cond,\n",
        "            'severity': sev, 'urgency': urg, 'resource_need': res,\n",
        "            'waiting_impact': wait, 'age_vulnerability': age_vulnerability_from_age(age),\n",
        "            'pain_level': pain, 'registration_time': datetime.now().isoformat()\n",
        "        }\n",
        "        label, fuzzy_score = fuzzy_mamdani_label(sev/100.0, urg/100.0, wait/100.0)\n",
        "        p['fuzzy_label'] = label\n",
        "        p['fuzzy_score'] = fuzzy_score\n",
        "        self.patients.append(p)\n",
        "        console.print(f\"[green]✅ Patient {pid} added.[/green]\")\n",
        "\n",
        "    def build_decision_matrix(self):\n",
        "        if not self.patients:\n",
        "            return np.zeros((0,5))\n",
        "        rows = []\n",
        "        for p in self.patients:\n",
        "            rows.append([p['severity'], p['urgency'], p['resource_need'], p['waiting_impact'], p.get('age_vulnerability',30.0)])\n",
        "        return np.array(rows, dtype=float)\n",
        "\n",
        "    def compute_pca_weights(self, matrix, var_threshold=0.85):\n",
        "        if matrix.shape[0] < 3:\n",
        "            return np.array([0.35,0.30,0.15,0.15,0.05])\n",
        "        scaler = StandardScaler()\n",
        "        X = scaler.fit_transform(matrix)\n",
        "        pca = PCA().fit(X)\n",
        "        cum = np.cumsum(pca.explained_variance_ratio_)\n",
        "        k = np.argmax(cum >= var_threshold) + 1\n",
        "        eig = pca.explained_variance_[:k]\n",
        "        load = pca.components_[:k,:]\n",
        "        weights = np.zeros(matrix.shape[1])\n",
        "        for j in range(matrix.shape[1]):\n",
        "            s = 0.0\n",
        "            for i in range(k):\n",
        "                s += eig[i] * abs(load[i,j])\n",
        "            weights[j] = s\n",
        "        if weights.sum() == 0:\n",
        "            weights = np.ones_like(weights)\n",
        "        return weights / (weights.sum() + 1e-12)\n",
        "\n",
        "    def explain_pca(self, matrix):\n",
        "        scaler = StandardScaler()\n",
        "        X = scaler.fit_transform(matrix)\n",
        "        pca = PCA(n_components=min(X.shape[0], X.shape[1])).fit(X)\n",
        "        comps = pca.components_\n",
        "        explained = pca.explained_variance_ratio_\n",
        "        return comps, explained\n",
        "\n",
        "    def run_triage(self, algorithm=\"ensemble\", use_pca=True):\n",
        "        D = self.build_decision_matrix()\n",
        "        if D.size == 0:\n",
        "            console.print(\"[red]No patients to triage.[/red]\")\n",
        "            return None\n",
        "        # weights via PCA or default\n",
        "        if use_pca and D.shape[0] >= 3:\n",
        "            w = self.compute_pca_weights(D)\n",
        "            self.last_weights = w\n",
        "            console.print(f\"[green]PCA-derived weights (S,U,R,W,A):[/green] {np.round(w,3).tolist()}\")\n",
        "        else:\n",
        "            w = np.array([0.35,0.30,0.15,0.15,0.05])\n",
        "            self.last_weights = w\n",
        "            console.print(f\"[yellow]Using default expert weights (S,U,R,W,A):[/yellow] {np.round(w,3).tolist()}\")\n",
        "\n",
        "        # compute methods\n",
        "        tops = topsis_scores(D, w)\n",
        "        proms = promethee_netflow(D, w)\n",
        "        fuzzy_scores = []\n",
        "        for p in self.patients:\n",
        "            _, fscore = fuzzy_mamdani_label(p['severity']/100.0, p['urgency']/100.0, p['waiting_impact']/100.0)\n",
        "            fuzzy_scores.append(fscore)\n",
        "        fuzzy_scores = np.array(fuzzy_scores)\n",
        "\n",
        "        # ensemble logic\n",
        "        if algorithm == \"topsis\":\n",
        "            final_scores = tops\n",
        "        elif algorithm == \"promethee\":\n",
        "            # normalize promethee to 0..1\n",
        "            pf = proms\n",
        "            pf = (pf - pf.min())/(pf.max()-pf.min()+1e-12)\n",
        "            final_scores = pf\n",
        "        elif algorithm == \"fuzzy\":\n",
        "            final_scores = fuzzy_scores\n",
        "        else:\n",
        "            # ensemble: weighted average with normalization\n",
        "            t = (tops - tops.min())/(tops.max()-tops.min()+1e-12)\n",
        "            p = (proms - proms.min())/(proms.max()-proms.min()+1e-12)\n",
        "            f = (fuzzy_scores - fuzzy_scores.min())/(fuzzy_scores.max()-fuzzy_scores.min()+1e-12)\n",
        "            final_scores = 0.5*t + 0.3*p + 0.2*f\n",
        "\n",
        "        # annotate patients\n",
        "        for i, p in enumerate(self.patients):\n",
        "            p['topsis_score'] = float(tops[i])\n",
        "            p['promethee_score'] = float(proms[i])\n",
        "            p['fuzzy_score'] = float(fuzzy_scores[i])\n",
        "            p['ensemble_score'] = float(final_scores[i])\n",
        "            # priority thresholds can be adjusted\n",
        "            if final_scores[i] >= 0.8: p['priority'] = \"Critical\"\n",
        "            elif final_scores[i] >= 0.6: p['priority'] = \"High\"\n",
        "            elif final_scores[i] >= 0.4: p['priority'] = \"Medium\"\n",
        "            else: p['priority'] = \"Low\"\n",
        "\n",
        "            # explainability: feature contribution (simple proportional)\n",
        "            Drow = D[i].astype(float)\n",
        "            contrib_raw = (Drow / (Drow.sum()+1e-12)) * self.last_weights\n",
        "            p['feature_contrib'] = {k:v for k,v in zip(['S','U','R','W','A'], np.round(contrib_raw,3).tolist())}\n",
        "\n",
        "        # rank by ensemble_score\n",
        "        self.patients.sort(key=lambda x: -x['ensemble_score'])\n",
        "        console.print(\"[green]Triage complete: patients ranked by chosen algorithm/ensemble.[/green]\")\n",
        "\n",
        "        # log triage event summary\n",
        "        self.event_log.append({\n",
        "            \"event\": \"triage_run\",\n",
        "            \"timestamp\": datetime.now().isoformat(),\n",
        "            \"algorithm\": algorithm,\n",
        "            \"num_patients\": len(self.patients),\n",
        "            \"weights\": self.last_weights.tolist()\n",
        "        })\n",
        "        return self.last_weights\n",
        "\n",
        "    def route_patient(self, patient_id, use_gnn=True, lam=0.5):\n",
        "        p = next((x for x in self.patients if x['id']==patient_id), None)\n",
        "        if p is None:\n",
        "            console.print(\"[red]Patient not found.[/red]\")\n",
        "            return None\n",
        "        psym = build_patient_sym_vector(p)\n",
        "        ids, waspas_scores, Xn = waspas_for_patient(psym, self.specialists, lam=lam)\n",
        "        avail = np.array([s['availability']/100.0 for s in self.specialists])\n",
        "        workloads = np.array([s['workload'] for s in self.specialists])\n",
        "        gnn_scores = gnn_adjust_scores(waspas_scores, eta=0.25, avail_vector=avail, workloads=workloads, iters=3)\n",
        "        _, sim_scores = similarity_scores(psym, self.spec_sym, specialists=self.specialists)\n",
        "        final_ids, final_scores = aggregate_ranks(ids, waspas_scores, gnn_scores, sim_scores, use_gnn=use_gnn, weights=(0.5,0.3,0.2))\n",
        "\n",
        "        # compute confidence: lower std across normalized components -> higher confidence\n",
        "        components = np.vstack([\n",
        "            (waspas_scores - waspas_scores.min())/(waspas_scores.max()-waspas_scores.min()+1e-12),\n",
        "            (gnn_scores - gnn_scores.min())/(gnn_scores.max()-gnn_scores.min()+1e-12),\n",
        "            (sim_scores - sim_scores.min())/(sim_scores.max()-sim_scores.min()+1e-12)\n",
        "        ])\n",
        "        conf = 1.0 - float(np.std(components))\n",
        "        conf = max(0.0, min(1.0, conf))\n",
        "\n",
        "        fused = []\n",
        "        for sid, sc in zip(final_ids, final_scores):\n",
        "            sp = next((s for s in self.specialists if s['id']==sid), None)\n",
        "            fused.append({'id': sid, 'label': sp['label'] if sp else sid, 'score': float(sc)})\n",
        "        recommended = fused[0] if fused else None\n",
        "\n",
        "        # log routing event\n",
        "        self.event_log.append({\n",
        "            \"event\": \"route_patient\",\n",
        "            \"timestamp\": datetime.now().isoformat(),\n",
        "            \"patient_id\": patient_id,\n",
        "            \"waspas\": dict(zip(ids, np.round(waspas_scores,4))),\n",
        "            \"gnn\": dict(zip(ids, np.round(gnn_scores,4))),\n",
        "            \"sim\": dict(zip(ids, np.round(sim_scores,4))),\n",
        "            \"recommended\": recommended,\n",
        "            \"confidence\": conf\n",
        "        })\n",
        "\n",
        "        return {\n",
        "            'patient_id': patient_id,\n",
        "            'waspas_scores': dict(zip(ids, np.round(waspas_scores,4))),\n",
        "            'gnn_scores': dict(zip(ids, np.round(gnn_scores,4))),\n",
        "            'sim_scores': dict(zip(ids, np.round(sim_scores,4))),\n",
        "            'fused_ranking': fused,\n",
        "            'recommended': recommended,\n",
        "            'confidence': conf\n",
        "        }\n",
        "\n",
        "    def export_results_csv(self, prefix=\"triage_results\"):\n",
        "        if not self.patients:\n",
        "            console.print(\"[red]No patients to export.[/red]\")\n",
        "            return None\n",
        "        df = pd.DataFrame(self.patients)\n",
        "        fname = f\"{prefix}_{now_str()}.csv\"\n",
        "        df.to_csv(fname, index=False)\n",
        "        console.print(f\"[green]✅ Exported to {fname}[/green]\")\n",
        "        return fname\n",
        "\n",
        "    def export_event_log(self, prefix=\"event_log\"):\n",
        "        if not self.event_log:\n",
        "            console.print(\"[yellow]No events logged yet.[/yellow]\")\n",
        "            return None\n",
        "        fname = f\"{prefix}_{now_str()}.json\"\n",
        "        with open(fname, \"w\") as f:\n",
        "            json.dump(self.event_log, f, indent=2)\n",
        "        console.print(f\"[green]✅ Event log saved to {fname}[/green]\")\n",
        "        return fname\n",
        "\n",
        "    # ------------------ Visualizations ------------------\n",
        "    def visualize_dashboard(self, show_plotly=True, save_prefix=None):\n",
        "        if not self.patients:\n",
        "            console.print(\"[red]No patients to visualize.[/red]\")\n",
        "            return None\n",
        "        if 'ensemble_score' not in self.patients[0]:\n",
        "            self.run_triage(use_pca=True)\n",
        "        df = pd.DataFrame(self.patients)\n",
        "\n",
        "        # 1) TOPSIS / Ensemble bar\n",
        "        fig1 = px.bar(df, x='id', y='ensemble_score', color='priority',\n",
        "                      color_discrete_map={'Critical':'red','High':'orange','Medium':'yellow','Low':'green'},\n",
        "                      title='Ensemble Emergency Scores per Patient', labels={'ensemble_score':'Ensemble Score','id':'Patient ID'})\n",
        "\n",
        "        # 2) PCA 2D scatter of decision features (S,U,R,W,A)\n",
        "        D = self.build_decision_matrix()\n",
        "        scaler = StandardScaler()\n",
        "        Dsc = scaler.fit_transform(D)\n",
        "        pca = PCA(n_components=2).fit_transform(Dsc)\n",
        "        df['pca1'], df['pca2'] = pca[:,0], pca[:,1]\n",
        "        fig2 = px.scatter(df, x='pca1', y='pca2', color='priority', hover_data=['id','condition_desc','ensemble_score'],\n",
        "                          title='PCA projection of triage features', labels={'pca1':'PC1','pca2':'PC2'})\n",
        "\n",
        "        # 3) Specialist network graph (availability-weighted)\n",
        "        G = nx.Graph()\n",
        "        for s in self.specialists:\n",
        "            G.add_node(s['id'], label=s['label'], availability=s['availability'], workload=s['workload'])\n",
        "        # adapt adjacency for visualization\n",
        "        for i, s1 in enumerate(self.specialists):\n",
        "            for j, s2 in enumerate(self.specialists):\n",
        "                if j <= i: continue\n",
        "                w = ADJ[i,j] * ( (s1['availability']+s2['availability'])/200.0 )\n",
        "                if w > 0.05:\n",
        "                    G.add_edge(s1['id'], s2['id'], weight=float(w))\n",
        "        pos = nx.spring_layout(G, seed=42)\n",
        "        edge_x, edge_y = [], []\n",
        "        for edge in G.edges():\n",
        "            x0,y0 = pos[edge[0]]\n",
        "            x1,y1 = pos[edge[1]]\n",
        "            edge_x += [x0, x1, None]\n",
        "            edge_y += [y0, y1, None]\n",
        "        node_x = [pos[n][0] for n in G.nodes()]\n",
        "        node_y = [pos[n][1] for n in G.nodes()]\n",
        "        node_text = [f\"{n}: {G.nodes[n]['label']} (A={G.nodes[n]['availability']},W={G.nodes[n]['workload']})\" for n in G.nodes()]\n",
        "        edge_trace = go.Scatter(x=edge_x, y=edge_y, mode='lines', line=dict(width=1,color='gray'), hoverinfo='none')\n",
        "        node_trace = go.Scatter(x=node_x, y=node_y, mode='markers+text', text=[G.nodes[n]['label'] for n in G.nodes()],\n",
        "                                hovertext=node_text, textposition=\"bottom center\", marker=dict(size=[10+G.nodes[n]['availability']/10 for n in G.nodes()]))\n",
        "        fig3 = go.Figure(data=[edge_trace, node_trace], layout=go.Layout(title='Specialist Collaboration Network', showlegend=False))\n",
        "\n",
        "        # 4) Radar chart for recommended specialist capabilities (for top patient)\n",
        "        top_patient = df.iloc[0]\n",
        "        r = self.route_patient(top_patient['id'])\n",
        "        rec_id = r['recommended']['id']\n",
        "        sp = next((s for s in self.specialists if s['id']==rec_id), None)\n",
        "        categories = ['expertise','availability','success_rate','resource_access','workload']\n",
        "        values = [sp[c] for c in categories]\n",
        "        # for radar scale, invert workload (lower better)\n",
        "        values_scaled = [values[0], values[1], values[2], values[3], (100 - values[4])]\n",
        "        fig4 = go.Figure()\n",
        "        fig4.add_trace(go.Scatterpolar(r=values_scaled, theta=categories, fill='toself', name=sp['label']))\n",
        "        fig4.update_layout(title=f\"Radar: Capabilities of recommended specialist for {top_patient['id']}\", polar=dict(radialaxis=dict(visible=True)))\n",
        "\n",
        "        # show\n",
        "        if show_plotly:\n",
        "            fig1.show()\n",
        "            fig2.show()\n",
        "            fig3.show()\n",
        "            fig4.show()\n",
        "\n",
        "        # save if requested\n",
        "        if save_prefix:\n",
        "            for i, fig in enumerate([fig1, fig2, fig3, fig4], start=1):\n",
        "                try:\n",
        "                    fname = f\"{save_prefix}_fig{i}_{now_str()}.png\"\n",
        "                    fig.write_image(fname, scale=2)\n",
        "                    console.print(f\"[green]Saved:[/green] {fname}\")\n",
        "                except Exception:\n",
        "                    htmlname = f\"{save_prefix}_fig{i}_{now_str()}.html\"\n",
        "                    fig.write_html(htmlname)\n",
        "                    console.print(f\"[green]Saved interactive HTML:[/green] {htmlname}\")\n",
        "\n",
        "        return fig1, fig2, fig3, fig4\n",
        "\n",
        "    # ------------------ Simulation to stress test and produce metrics ------------------\n",
        "    def simulate_emergency(self, n=50, seed=42, noise=0.15, verbose=False):\n",
        "        random.seed(seed)\n",
        "        sim_patients = []\n",
        "        for i in range(n):\n",
        "            base = random.choice(SAMPLE_PATIENTS)\n",
        "            pid = f\"SIM_{i+1:03d}\"\n",
        "            age = max(1, int(base[1] + random.randint(-10,10)))\n",
        "            sev = min(100, max(0, int(base[3] + random.gauss(0,10)*noise*10)))\n",
        "            urg = min(100, max(0, int(base[4] + random.gauss(0,10)*noise*10)))\n",
        "            res = min(100, max(0, int(base[5] + random.gauss(0,10)*noise*10)))\n",
        "            wait = min(100, max(0, int(base[6] + random.gauss(0,10)*noise*10)))\n",
        "            pain = max(0, min(10, int(base[7] + random.gauss(0,2))))\n",
        "            cond = base[8]\n",
        "            sim_patients.append([pid, age, 37.0 + random.random()*2, sev, urg, res, wait, pain, cond])\n",
        "        # load sim patients\n",
        "        self.patients = []\n",
        "        for rec in sim_patients:\n",
        "            pid, age, temp, sev, urg, res, wait, pain, cond = rec\n",
        "            p = {\n",
        "                'id': pid, 'age': age, 'temp': temp,\n",
        "                'severity': sev, 'urgency': urg, 'resource_need': res,\n",
        "                'waiting_impact': wait, 'age_vulnerability': age_vulnerability_from_age(age),\n",
        "                'pain_level': pain, 'condition_desc': cond,\n",
        "                'registration_time': datetime.now().isoformat()\n",
        "            }\n",
        "            label, fuzzy_score = fuzzy_mamdani_label(sev/100.0, urg/100.0, wait/100.0)\n",
        "            p['fuzzy_label'] = label\n",
        "            p['fuzzy_score'] = fuzzy_score\n",
        "            self.patients.append(p)\n",
        "\n",
        "        console.print(f\"[cyan]Simulating {n} patients and running triage & routing...[/cyan]\")\n",
        "        self.run_triage(use_pca=True)\n",
        "        # sample routing for first 10 to compute statistics\n",
        "        stats = {'routes_tested':0, 'avg_conf':0.0}\n",
        "        confs = []\n",
        "        for p in track(self.patients[:min(30,len(self.patients))], description=\"Routing samples...\"):\n",
        "            r = self.route_patient(p['id'])\n",
        "            if r:\n",
        "                confs.append(r['confidence'])\n",
        "                stats['routes_tested'] += 1\n",
        "        stats['avg_conf'] = float(np.mean(confs)) if confs else 0.0\n",
        "        console.print(f\"[green]Simulation complete.[/green] Routes tested: {stats['routes_tested']}, Avg. confidence: {stats['avg_conf']:.3f}\")\n",
        "        self.event_log.append({\"event\":\"simulation\",\"timestamp\":datetime.now().isoformat(),\"n\":n,\"avg_conf\":stats['avg_conf']})\n",
        "        return stats\n",
        "\n",
        "# ------------------ CLI Menu (improved) ------------------\n",
        "def main_menu():\n",
        "    system = CombinedMedicalSystem()\n",
        "    header_panel = Panel.fit(\"🚑 [bold red]AI in Medical Emergency Decision Making — v2.0[/bold red]\", style=\"cyan\")\n",
        "    console.print(header_panel)\n",
        "    console.print(\"[grey]Tip: Use option 1 to load demo data, then explore triage (3) and routing (5).[/grey]\")\n",
        "    while True:\n",
        "        console.print(\"\\n[bold]Menu:[/bold]\")\n",
        "        console.print(\"1. Load 10 fixed sample patients (demo)\")\n",
        "        console.print(\"2. Add one patient manually\")\n",
        "        console.print(\"3. Run triage (choose algorithm / ensemble)\")\n",
        "        console.print(\"4. Show triage report (console)\")\n",
        "        console.print(\"5. Route a patient to specialists (WASPAS + adaptive GNN + Similarity fusion)\")\n",
        "        console.print(\"6. Visualize dashboard (Plotly)\")\n",
        "        console.print(\"7. Export CSV of triage patient list\")\n",
        "        console.print(\"8. Export event log (JSON)\")\n",
        "        console.print(\"9. Simulation mode (stress test)\")\n",
        "        console.print(\"10. Clear all patients\")\n",
        "        console.print(\"11. Exit\")\n",
        "        choice = Prompt.ask(\"Choose (1-11)\", default=\"1\")\n",
        "        if choice == '1':\n",
        "            system.load_sample_patients(auto_run_triage=True)\n",
        "            df = pd.DataFrame(system.patients)\n",
        "            console.print(\"\\n[bold yellow]==== TRIAGE REPORT ====[/bold yellow]\")\n",
        "            table = Table(show_header=True, header_style=\"bold magenta\")\n",
        "            cols = ['id','age','condition_desc','severity','urgency','ensemble_score','priority','fuzzy_label']\n",
        "            for c in cols:\n",
        "                table.add_column(c, justify=\"center\")\n",
        "            for _, row in df.iterrows():\n",
        "                table.add_row(str(row['id']), str(row['age']), str(row['condition_desc']), str(row['severity']),\n",
        "                              str(row['urgency']), f\"{row.get('ensemble_score',0):.3f}\", str(row.get('priority','N/A')), str(row.get('fuzzy_label','N/A')))\n",
        "            console.print(table)\n",
        "        elif choice == '2':\n",
        "            system.add_patient_interactive()\n",
        "        elif choice == '3':\n",
        "            alg = Prompt.ask(\"Choose triage algorithm [ensemble/topsis/promethee/fuzzy]\", default=\"ensemble\")\n",
        "            system.run_triage(algorithm=alg, use_pca=True)\n",
        "            # show brief explanation\n",
        "            if system.last_weights is not None:\n",
        "                console.print(\"[cyan]Feature weights used (S,U,R,W,A):[/cyan]\", np.round(system.last_weights,3).tolist())\n",
        "                comps, explained = system.explain_pca(system.build_decision_matrix())\n",
        "                console.print(\"[cyan]PCA explained variance (first components):[/cyan]\", np.round(explained[:3],3).tolist())\n",
        "        elif choice == '4':\n",
        "            if not system.patients:\n",
        "                console.print(\"[red]No patients to show. Load or add patients first.[/red]\")\n",
        "                continue\n",
        "            df = pd.DataFrame(system.patients)\n",
        "            console.print(\"\\n[bold yellow]==== TRIAGE REPORT (Full) ====[/bold yellow]\")\n",
        "            table = Table(show_header=True, header_style=\"bold magenta\")\n",
        "            cols = ['id','age','condition_desc','severity','urgency','resource_need','waiting_impact','pain_level','topsis_score','promethee_score','fuzzy_score','ensemble_score','priority']\n",
        "            for c in cols:\n",
        "                table.add_column(c, justify=\"center\")\n",
        "            for _, row in df.iterrows():\n",
        "                table.add_row(str(row['id']), str(row['age']), str(row['condition_desc']), str(row['severity']),\n",
        "                              str(row['urgency']), str(row['resource_need']), str(row['waiting_impact']), str(row['pain_level']),\n",
        "                              f\"{row.get('topsis_score',0):.3f}\", f\"{row.get('promethee_score',0):.4f}\", f\"{row.get('fuzzy_score',0):.3f}\", f\"{row.get('ensemble_score',0):.3f}\", str(row.get('priority','N/A')))\n",
        "            console.print(table)\n",
        "        elif choice == '5':\n",
        "            if not system.patients:\n",
        "                console.print(\"[red]No patients available. Load or add first.[/red]\")\n",
        "                continue\n",
        "            pid = Prompt.ask(\"Enter patient ID to route (e.g., P001)\")\n",
        "            res = system.route_patient(pid, use_gnn=True)\n",
        "            if not res:\n",
        "                console.print(\"[red]Routing failed or patient not found.[/red]\")\n",
        "                continue\n",
        "            console.print(f\"\\n[bold yellow]Routing result for {pid} (top 3):[/bold yellow]\")\n",
        "            for r in res['fused_ranking'][:3]:\n",
        "                console.print(f\" - {r['label']} ({r['id']}) | fused score: {r['score']:.3f}\")\n",
        "            console.print(f\"\\n[cyan]Recommendation confidence:[/cyan] {res['confidence']:.3f}\")\n",
        "        elif choice == '6':\n",
        "            if not system.patients:\n",
        "                console.print(\"[red]No patients to visualize. Load or add first.[/red]\")\n",
        "                continue\n",
        "            save_choice = Confirm.ask(\"Save visuals to disk?\", default=False)\n",
        "            prefix = None\n",
        "            if save_choice:\n",
        "                prefix = Prompt.ask(\"Filename prefix\", default=\"triage_viz\")\n",
        "            system.visualize_dashboard(show_plotly=True, save_prefix=prefix)\n",
        "        elif choice == '7':\n",
        "            if not system.patients:\n",
        "                console.print(\"[red]No patients to export.[/red]\")\n",
        "                continue\n",
        "            system.export_results_csv()\n",
        "        elif choice == '8':\n",
        "            system.export_event_log()\n",
        "        elif choice == '9':\n",
        "            n = IntPrompt.ask(\"Number of simulated patients\", default=50)\n",
        "            stats = system.simulate_emergency(n=n, noise=0.12)\n",
        "            console.print(f\"[green]Simulation stats:[/green] {stats}\")\n",
        "        elif choice == '10':\n",
        "            confirm = Confirm.ask(\"Clear all patients?\", default=False)\n",
        "            if confirm:\n",
        "                system.patients.clear()\n",
        "                console.print(\"[green]Cleared all patient data.[/green]\")\n",
        "        elif choice == '11':\n",
        "            console.print(\"[bold green]Exiting. Stay safe![/bold green]\")\n",
        "            # save event log automatically\n",
        "            system.export_event_log(prefix=\"event_log_before_exit\")\n",
        "            break\n",
        "        else:\n",
        "            console.print(\"[red]Invalid choice — please select a menu number.[/red]\")\n",
        "\n",
        "# Run the menu\n",
        "if __name__ == \"__main__\":\n",
        "    main_menu()\n"
      ]
    }
  ]
}